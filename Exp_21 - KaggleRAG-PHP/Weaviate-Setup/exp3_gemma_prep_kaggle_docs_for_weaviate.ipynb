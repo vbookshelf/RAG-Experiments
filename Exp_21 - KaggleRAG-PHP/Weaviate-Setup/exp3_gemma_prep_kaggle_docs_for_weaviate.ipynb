{
  "cells": [
    {
      "cell_type": "code",
      "execution_count": null,
      "id": "b949f520",
      "metadata": {
        "papermill": {
          "duration": 0.015216,
          "end_time": "2024-02-23T10:01:12.485933",
          "exception": false,
          "start_time": "2024-02-23T10:01:12.470717",
          "status": "completed"
        },
        "tags": [],
        "id": "b949f520"
      },
      "outputs": [],
      "source": []
    },
    {
      "cell_type": "code",
      "execution_count": null,
      "id": "e7d4e6c8",
      "metadata": {
        "execution": {
          "iopub.execute_input": "2024-02-23T10:01:12.518586Z",
          "iopub.status.busy": "2024-02-23T10:01:12.517840Z",
          "iopub.status.idle": "2024-02-23T10:01:30.529129Z",
          "shell.execute_reply": "2024-02-23T10:01:30.527745Z"
        },
        "papermill": {
          "duration": 18.031249,
          "end_time": "2024-02-23T10:01:30.532497",
          "exception": false,
          "start_time": "2024-02-23T10:01:12.501248",
          "status": "completed"
        },
        "tags": [],
        "id": "e7d4e6c8",
        "outputId": "37f63265-458c-4d6f-e752-b5b7510b4cb2"
      },
      "outputs": [
        {
          "name": "stdout",
          "output_type": "stream",
          "text": [
            "Collecting tiktoken\r\n",
            "  Downloading tiktoken-0.6.0-cp310-cp310-manylinux_2_17_x86_64.manylinux2014_x86_64.whl.metadata (6.6 kB)\r\n",
            "Requirement already satisfied: regex>=2022.1.18 in /opt/conda/lib/python3.10/site-packages (from tiktoken) (2023.12.25)\r\n",
            "Requirement already satisfied: requests>=2.26.0 in /opt/conda/lib/python3.10/site-packages (from tiktoken) (2.31.0)\r\n",
            "Requirement already satisfied: charset-normalizer<4,>=2 in /opt/conda/lib/python3.10/site-packages (from requests>=2.26.0->tiktoken) (3.3.2)\r\n",
            "Requirement already satisfied: idna<4,>=2.5 in /opt/conda/lib/python3.10/site-packages (from requests>=2.26.0->tiktoken) (3.6)\r\n",
            "Requirement already satisfied: urllib3<3,>=1.21.1 in /opt/conda/lib/python3.10/site-packages (from requests>=2.26.0->tiktoken) (1.26.18)\r\n",
            "Requirement already satisfied: certifi>=2017.4.17 in /opt/conda/lib/python3.10/site-packages (from requests>=2.26.0->tiktoken) (2023.11.17)\r\n",
            "Downloading tiktoken-0.6.0-cp310-cp310-manylinux_2_17_x86_64.manylinux2014_x86_64.whl (1.8 MB)\r\n",
            "\u001b[2K   \u001b[90m━━━━━━━━━━━━━━━━━━━━━━━━━━━━━━━━━━━━━━━━\u001b[0m \u001b[32m1.8/1.8 MB\u001b[0m \u001b[31m21.3 MB/s\u001b[0m eta \u001b[36m0:00:00\u001b[0m\r\n",
            "\u001b[?25hInstalling collected packages: tiktoken\r\n",
            "Successfully installed tiktoken-0.6.0\r\n"
          ]
        }
      ],
      "source": [
        "!pip install tiktoken"
      ]
    },
    {
      "cell_type": "code",
      "execution_count": null,
      "id": "76d757cc",
      "metadata": {
        "execution": {
          "iopub.execute_input": "2024-02-23T10:01:30.567112Z",
          "iopub.status.busy": "2024-02-23T10:01:30.566404Z",
          "iopub.status.idle": "2024-02-23T10:01:47.010099Z",
          "shell.execute_reply": "2024-02-23T10:01:47.008057Z"
        },
        "papermill": {
          "duration": 16.466435,
          "end_time": "2024-02-23T10:01:47.015137",
          "exception": false,
          "start_time": "2024-02-23T10:01:30.548702",
          "status": "completed"
        },
        "tags": [],
        "id": "76d757cc",
        "outputId": "fd6a4065-fc5e-4208-83b1-303bef28cf22"
      },
      "outputs": [
        {
          "name": "stdout",
          "output_type": "stream",
          "text": [
            "Collecting weaviate-client==3.*\r\n",
            "  Downloading weaviate_client-3.26.2-py3-none-any.whl.metadata (3.4 kB)\r\n",
            "Requirement already satisfied: requests<3.0.0,>=2.30.0 in /opt/conda/lib/python3.10/site-packages (from weaviate-client==3.*) (2.31.0)\r\n",
            "Collecting validators<1.0.0,>=0.21.2 (from weaviate-client==3.*)\r\n",
            "  Downloading validators-0.22.0-py3-none-any.whl.metadata (4.7 kB)\r\n",
            "Collecting authlib<2.0.0,>=1.2.1 (from weaviate-client==3.*)\r\n",
            "  Downloading Authlib-1.3.0-py2.py3-none-any.whl.metadata (3.8 kB)\r\n",
            "Requirement already satisfied: cryptography in /opt/conda/lib/python3.10/site-packages (from authlib<2.0.0,>=1.2.1->weaviate-client==3.*) (41.0.7)\r\n",
            "Requirement already satisfied: charset-normalizer<4,>=2 in /opt/conda/lib/python3.10/site-packages (from requests<3.0.0,>=2.30.0->weaviate-client==3.*) (3.3.2)\r\n",
            "Requirement already satisfied: idna<4,>=2.5 in /opt/conda/lib/python3.10/site-packages (from requests<3.0.0,>=2.30.0->weaviate-client==3.*) (3.6)\r\n",
            "Requirement already satisfied: urllib3<3,>=1.21.1 in /opt/conda/lib/python3.10/site-packages (from requests<3.0.0,>=2.30.0->weaviate-client==3.*) (1.26.18)\r\n",
            "Requirement already satisfied: certifi>=2017.4.17 in /opt/conda/lib/python3.10/site-packages (from requests<3.0.0,>=2.30.0->weaviate-client==3.*) (2023.11.17)\r\n",
            "Requirement already satisfied: cffi>=1.12 in /opt/conda/lib/python3.10/site-packages (from cryptography->authlib<2.0.0,>=1.2.1->weaviate-client==3.*) (1.16.0)\r\n",
            "Requirement already satisfied: pycparser in /opt/conda/lib/python3.10/site-packages (from cffi>=1.12->cryptography->authlib<2.0.0,>=1.2.1->weaviate-client==3.*) (2.21)\r\n",
            "Downloading weaviate_client-3.26.2-py3-none-any.whl (120 kB)\r\n",
            "\u001b[2K   \u001b[90m━━━━━━━━━━━━━━━━━━━━━━━━━━━━━━━━━━━━━━━━\u001b[0m \u001b[32m120.4/120.4 kB\u001b[0m \u001b[31m3.0 MB/s\u001b[0m eta \u001b[36m0:00:00\u001b[0m\r\n",
            "\u001b[?25hDownloading Authlib-1.3.0-py2.py3-none-any.whl (223 kB)\r\n",
            "\u001b[2K   \u001b[90m━━━━━━━━━━━━━━━━━━━━━━━━━━━━━━━━━━━━━━━━\u001b[0m \u001b[32m223.7/223.7 kB\u001b[0m \u001b[31m8.4 MB/s\u001b[0m eta \u001b[36m0:00:00\u001b[0m\r\n",
            "\u001b[?25hDownloading validators-0.22.0-py3-none-any.whl (26 kB)\r\n",
            "Installing collected packages: validators, authlib, weaviate-client\r\n",
            "Successfully installed authlib-1.3.0 validators-0.22.0 weaviate-client-3.26.2\r\n"
          ]
        }
      ],
      "source": [
        "#!pip install -U weaviate-client\n",
        "!pip install \"weaviate-client==3.*\" # Version 4 of the client does not work"
      ]
    },
    {
      "cell_type": "code",
      "execution_count": null,
      "id": "22c3f045",
      "metadata": {
        "execution": {
          "iopub.execute_input": "2024-02-23T10:01:47.068737Z",
          "iopub.status.busy": "2024-02-23T10:01:47.067809Z",
          "iopub.status.idle": "2024-02-23T10:02:04.025165Z",
          "shell.execute_reply": "2024-02-23T10:02:04.023673Z"
        },
        "papermill": {
          "duration": 16.990129,
          "end_time": "2024-02-23T10:02:04.028666",
          "exception": false,
          "start_time": "2024-02-23T10:01:47.038537",
          "status": "completed"
        },
        "tags": [],
        "id": "22c3f045",
        "outputId": "0aeb3097-adab-43da-a12c-43e7ce694338"
      },
      "outputs": [
        {
          "name": "stdout",
          "output_type": "stream",
          "text": [
            "Collecting openai\r\n",
            "  Downloading openai-1.12.0-py3-none-any.whl.metadata (18 kB)\r\n",
            "Requirement already satisfied: anyio<5,>=3.5.0 in /opt/conda/lib/python3.10/site-packages (from openai) (4.2.0)\r\n",
            "Requirement already satisfied: distro<2,>=1.7.0 in /opt/conda/lib/python3.10/site-packages (from openai) (1.9.0)\r\n",
            "Collecting httpx<1,>=0.23.0 (from openai)\r\n",
            "  Downloading httpx-0.27.0-py3-none-any.whl.metadata (7.2 kB)\r\n",
            "Requirement already satisfied: pydantic<3,>=1.9.0 in /opt/conda/lib/python3.10/site-packages (from openai) (2.5.3)\r\n",
            "Requirement already satisfied: sniffio in /opt/conda/lib/python3.10/site-packages (from openai) (1.3.0)\r\n",
            "Requirement already satisfied: tqdm>4 in /opt/conda/lib/python3.10/site-packages (from openai) (4.66.1)\r\n",
            "Requirement already satisfied: typing-extensions<5,>=4.7 in /opt/conda/lib/python3.10/site-packages (from openai) (4.9.0)\r\n",
            "Requirement already satisfied: idna>=2.8 in /opt/conda/lib/python3.10/site-packages (from anyio<5,>=3.5.0->openai) (3.6)\r\n",
            "Requirement already satisfied: exceptiongroup>=1.0.2 in /opt/conda/lib/python3.10/site-packages (from anyio<5,>=3.5.0->openai) (1.2.0)\r\n",
            "Requirement already satisfied: certifi in /opt/conda/lib/python3.10/site-packages (from httpx<1,>=0.23.0->openai) (2023.11.17)\r\n",
            "Collecting httpcore==1.* (from httpx<1,>=0.23.0->openai)\r\n",
            "  Downloading httpcore-1.0.4-py3-none-any.whl.metadata (20 kB)\r\n",
            "Requirement already satisfied: h11<0.15,>=0.13 in /opt/conda/lib/python3.10/site-packages (from httpcore==1.*->httpx<1,>=0.23.0->openai) (0.14.0)\r\n",
            "Requirement already satisfied: annotated-types>=0.4.0 in /opt/conda/lib/python3.10/site-packages (from pydantic<3,>=1.9.0->openai) (0.6.0)\r\n",
            "Requirement already satisfied: pydantic-core==2.14.6 in /opt/conda/lib/python3.10/site-packages (from pydantic<3,>=1.9.0->openai) (2.14.6)\r\n",
            "Downloading openai-1.12.0-py3-none-any.whl (226 kB)\r\n",
            "\u001b[2K   \u001b[90m━━━━━━━━━━━━━━━━━━━━━━━━━━━━━━━━━━━━━━━━\u001b[0m \u001b[32m226.7/226.7 kB\u001b[0m \u001b[31m8.1 MB/s\u001b[0m eta \u001b[36m0:00:00\u001b[0m\r\n",
            "\u001b[?25hDownloading httpx-0.27.0-py3-none-any.whl (75 kB)\r\n",
            "\u001b[2K   \u001b[90m━━━━━━━━━━━━━━━━━━━━━━━━━━━━━━━━━━━━━━━━\u001b[0m \u001b[32m75.6/75.6 kB\u001b[0m \u001b[31m3.5 MB/s\u001b[0m eta \u001b[36m0:00:00\u001b[0m\r\n",
            "\u001b[?25hDownloading httpcore-1.0.4-py3-none-any.whl (77 kB)\r\n",
            "\u001b[2K   \u001b[90m━━━━━━━━━━━━━━━━━━━━━━━━━━━━━━━━━━━━━━━━\u001b[0m \u001b[32m77.8/77.8 kB\u001b[0m \u001b[31m3.7 MB/s\u001b[0m eta \u001b[36m0:00:00\u001b[0m\r\n",
            "\u001b[?25hInstalling collected packages: httpcore, httpx, openai\r\n",
            "Successfully installed httpcore-1.0.4 httpx-0.27.0 openai-1.12.0\r\n"
          ]
        }
      ],
      "source": [
        "!pip install openai"
      ]
    },
    {
      "cell_type": "code",
      "execution_count": null,
      "id": "db48b01a",
      "metadata": {
        "execution": {
          "iopub.execute_input": "2024-02-23T10:02:04.070371Z",
          "iopub.status.busy": "2024-02-23T10:02:04.069261Z",
          "iopub.status.idle": "2024-02-23T10:02:05.137184Z",
          "shell.execute_reply": "2024-02-23T10:02:05.135484Z"
        },
        "papermill": {
          "duration": 1.09275,
          "end_time": "2024-02-23T10:02:05.140569",
          "exception": false,
          "start_time": "2024-02-23T10:02:04.047819",
          "status": "completed"
        },
        "tags": [],
        "id": "db48b01a"
      },
      "outputs": [],
      "source": [
        "import pandas as pd\n",
        "import numpy as np\n",
        "import os\n",
        "\n",
        "import json\n",
        "import re"
      ]
    },
    {
      "cell_type": "code",
      "execution_count": null,
      "id": "f3b3858a",
      "metadata": {
        "execution": {
          "iopub.execute_input": "2024-02-23T10:02:05.180941Z",
          "iopub.status.busy": "2024-02-23T10:02:05.180315Z",
          "iopub.status.idle": "2024-02-23T10:02:05.185785Z",
          "shell.execute_reply": "2024-02-23T10:02:05.184770Z"
        },
        "papermill": {
          "duration": 0.028422,
          "end_time": "2024-02-23T10:02:05.188130",
          "exception": false,
          "start_time": "2024-02-23T10:02:05.159708",
          "status": "completed"
        },
        "tags": [],
        "id": "f3b3858a"
      },
      "outputs": [],
      "source": [
        "WCS_ENDPOINT = \"https://my-sandbox1-1486fdzz.weaviate.network/\" # Weaviate\n",
        "WCS_API_KEY = \"YOUR_WCS_API_KEY\" # Weaviate\n",
        "OPENAI_API_KEY = 'YOUR_OPENAI_API_KEY'\n",
        "COHERE_API_KEY = 'YOUR_COHERE_API_KEY'\n",
        "\n",
        "VECTOR_DB_NAME = 'KAGGLE_DOCS_VDB'\n",
        "BATCH_SIZE = 100\n",
        "\n",
        "#SAMPLE_SIZE = 500"
      ]
    },
    {
      "cell_type": "code",
      "execution_count": null,
      "id": "9347399d",
      "metadata": {
        "execution": {
          "iopub.execute_input": "2024-02-23T10:02:05.229050Z",
          "iopub.status.busy": "2024-02-23T10:02:05.228334Z",
          "iopub.status.idle": "2024-02-23T10:02:05.234918Z",
          "shell.execute_reply": "2024-02-23T10:02:05.233269Z"
        },
        "papermill": {
          "duration": 0.030817,
          "end_time": "2024-02-23T10:02:05.237927",
          "exception": false,
          "start_time": "2024-02-23T10:02:05.207110",
          "status": "completed"
        },
        "tags": [],
        "id": "9347399d"
      },
      "outputs": [],
      "source": [
        "base_path = '../input/gemma-comp-data'"
      ]
    },
    {
      "cell_type": "code",
      "execution_count": null,
      "id": "cee35edd",
      "metadata": {
        "execution": {
          "iopub.execute_input": "2024-02-23T10:02:05.280416Z",
          "iopub.status.busy": "2024-02-23T10:02:05.279948Z",
          "iopub.status.idle": "2024-02-23T10:02:05.295424Z",
          "shell.execute_reply": "2024-02-23T10:02:05.294285Z"
        },
        "papermill": {
          "duration": 0.040775,
          "end_time": "2024-02-23T10:02:05.297977",
          "exception": false,
          "start_time": "2024-02-23T10:02:05.257202",
          "status": "completed"
        },
        "tags": [],
        "id": "cee35edd",
        "outputId": "38961727-17b3-47e9-fda7-20ace054d468"
      },
      "outputs": [
        {
          "data": {
            "text/plain": [
              "['publicapi.txt',\n",
              " 'notebooks.txt',\n",
              " 'tpu.txt',\n",
              " 'organizations.txt',\n",
              " 'datasets.txt',\n",
              " 'models.txt',\n",
              " 'efficientgou.txt',\n",
              " 'competitionssetup.txt',\n",
              " 'meetourteam.txt',\n",
              " 'communityguidelines.txt',\n",
              " 'competitions.txt',\n",
              " 'privacypolicy.txt']"
            ]
          },
          "execution_count": 7,
          "metadata": {},
          "output_type": "execute_result"
        }
      ],
      "source": [
        "os.listdir('../input/gemma-comp-data/cleaned-txt-kaggle')"
      ]
    },
    {
      "cell_type": "markdown",
      "id": "aedf6373",
      "metadata": {
        "papermill": {
          "duration": 0.019484,
          "end_time": "2024-02-23T10:02:05.335547",
          "exception": false,
          "start_time": "2024-02-23T10:02:05.316063",
          "status": "completed"
        },
        "tags": [],
        "id": "aedf6373"
      },
      "source": [
        "## Load the Kaggle data"
      ]
    },
    {
      "cell_type": "code",
      "execution_count": null,
      "id": "6ea52e43",
      "metadata": {
        "execution": {
          "iopub.execute_input": "2024-02-23T10:02:05.375216Z",
          "iopub.status.busy": "2024-02-23T10:02:05.373700Z",
          "iopub.status.idle": "2024-02-23T10:02:05.385278Z",
          "shell.execute_reply": "2024-02-23T10:02:05.384367Z"
        },
        "papermill": {
          "duration": 0.033422,
          "end_time": "2024-02-23T10:02:05.387453",
          "exception": false,
          "start_time": "2024-02-23T10:02:05.354031",
          "status": "completed"
        },
        "tags": [],
        "id": "6ea52e43",
        "outputId": "9b3e2699-2c3e-42c5-c2ef-805e45e09529"
      },
      "outputs": [
        {
          "name": "stdout",
          "output_type": "stream",
          "text": [
            "Num files: 12\n"
          ]
        },
        {
          "data": {
            "text/plain": [
              "['publicapi.txt',\n",
              " 'notebooks.txt',\n",
              " 'tpu.txt',\n",
              " 'organizations.txt',\n",
              " 'datasets.txt',\n",
              " 'models.txt',\n",
              " 'efficientgou.txt',\n",
              " 'competitionssetup.txt',\n",
              " 'meetourteam.txt',\n",
              " 'communityguidelines.txt',\n",
              " 'competitions.txt',\n",
              " 'privacypolicy.txt']"
            ]
          },
          "execution_count": 8,
          "metadata": {},
          "output_type": "execute_result"
        }
      ],
      "source": [
        "file_list = os.listdir('../input/gemma-comp-data/cleaned-txt-kaggle')\n",
        "\n",
        "print('Num files:', len(file_list))\n",
        "\n",
        "file_list"
      ]
    },
    {
      "cell_type": "code",
      "execution_count": null,
      "id": "4299cf59",
      "metadata": {
        "execution": {
          "iopub.execute_input": "2024-02-23T10:02:05.427047Z",
          "iopub.status.busy": "2024-02-23T10:02:05.425476Z",
          "iopub.status.idle": "2024-02-23T10:02:05.460392Z",
          "shell.execute_reply": "2024-02-23T10:02:05.458703Z"
        },
        "papermill": {
          "duration": 0.057463,
          "end_time": "2024-02-23T10:02:05.463073",
          "exception": false,
          "start_time": "2024-02-23T10:02:05.405610",
          "status": "completed"
        },
        "tags": [],
        "id": "4299cf59",
        "outputId": "2fe76e83-d4fc-4ff1-936b-8e0994d1085e"
      },
      "outputs": [
        {
          "name": "stdout",
          "output_type": "stream",
          "text": [
            "64\n",
            "(64, 2)\n"
          ]
        },
        {
          "data": {
            "text/html": [
              "<div>\n",
              "<style scoped>\n",
              "    .dataframe tbody tr th:only-of-type {\n",
              "        vertical-align: middle;\n",
              "    }\n",
              "\n",
              "    .dataframe tbody tr th {\n",
              "        vertical-align: top;\n",
              "    }\n",
              "\n",
              "    .dataframe thead th {\n",
              "        text-align: right;\n",
              "    }\n",
              "</style>\n",
              "<table border=\"1\" class=\"dataframe\">\n",
              "  <thead>\n",
              "    <tr style=\"text-align: right;\">\n",
              "      <th></th>\n",
              "      <th>text_chunk</th>\n",
              "      <th>fname</th>\n",
              "    </tr>\n",
              "  </thead>\n",
              "  <tbody>\n",
              "    <tr>\n",
              "      <th>0</th>\n",
              "      <td>Kaggle Team Members (Employees) and their prof...</td>\n",
              "      <td>meetourteam.txt</td>\n",
              "    </tr>\n",
              "    <tr>\n",
              "      <th>1</th>\n",
              "      <td>{Kaggle team member} Julia Elliott\\nCOO\\nJulia...</td>\n",
              "      <td>meetourteam.txt</td>\n",
              "    </tr>\n",
              "    <tr>\n",
              "      <th>2</th>\n",
              "      <td>{Kaggle team member} Jeff Moser\\nChief Archite...</td>\n",
              "      <td>meetourteam.txt</td>\n",
              "    </tr>\n",
              "    <tr>\n",
              "      <th>3</th>\n",
              "      <td>{Kaggle team member} William Cukierski\\nHead o...</td>\n",
              "      <td>meetourteam.txt</td>\n",
              "    </tr>\n",
              "    <tr>\n",
              "      <th>4</th>\n",
              "      <td>{Kaggle team member} Jerad Rose\\nDeveloper\\nJe...</td>\n",
              "      <td>meetourteam.txt</td>\n",
              "    </tr>\n",
              "  </tbody>\n",
              "</table>\n",
              "</div>"
            ],
            "text/plain": [
              "                                          text_chunk            fname\n",
              "0  Kaggle Team Members (Employees) and their prof...  meetourteam.txt\n",
              "1  {Kaggle team member} Julia Elliott\\nCOO\\nJulia...  meetourteam.txt\n",
              "2  {Kaggle team member} Jeff Moser\\nChief Archite...  meetourteam.txt\n",
              "3  {Kaggle team member} William Cukierski\\nHead o...  meetourteam.txt\n",
              "4  {Kaggle team member} Jerad Rose\\nDeveloper\\nJe...  meetourteam.txt"
            ]
          },
          "execution_count": 9,
          "metadata": {},
          "output_type": "execute_result"
        }
      ],
      "source": [
        "# Example: Load one txt file\n",
        "\n",
        "fname = file_list[8]\n",
        "file_path = base_path + '/cleaned-txt-kaggle/' + fname\n",
        "\n",
        "with open(file_path, \"r\") as file:\n",
        "\n",
        "    # read the file\n",
        "    content = file.read()\n",
        "\n",
        "    # split by the # symbol\n",
        "    lines = content.split(\"###\")\n",
        "\n",
        "    # create the chunks\n",
        "    chunk_list = [line.strip() for line in lines]\n",
        "\n",
        "print(len(chunk_list))\n",
        "\n",
        "\n",
        "# Create a dataframe\n",
        "\n",
        "cols = ['text_chunk']\n",
        "df = pd.DataFrame(chunk_list, columns=cols)\n",
        "\n",
        "# Add the fname\n",
        "df['fname'] = fname\n",
        "\n",
        "print(df.shape)\n",
        "\n",
        "df.head()"
      ]
    },
    {
      "cell_type": "code",
      "execution_count": null,
      "id": "60ab5136",
      "metadata": {
        "execution": {
          "iopub.execute_input": "2024-02-23T10:02:05.502566Z",
          "iopub.status.busy": "2024-02-23T10:02:05.502109Z",
          "iopub.status.idle": "2024-02-23T10:02:05.572016Z",
          "shell.execute_reply": "2024-02-23T10:02:05.570564Z"
        },
        "papermill": {
          "duration": 0.094081,
          "end_time": "2024-02-23T10:02:05.575837",
          "exception": false,
          "start_time": "2024-02-23T10:02:05.481756",
          "status": "completed"
        },
        "tags": [],
        "id": "60ab5136",
        "outputId": "42aac041-b9c5-4acd-a39c-24c494db3fb9"
      },
      "outputs": [
        {
          "name": "stdout",
          "output_type": "stream",
          "text": [
            "(160, 2)\n"
          ]
        },
        {
          "data": {
            "text/html": [
              "<div>\n",
              "<style scoped>\n",
              "    .dataframe tbody tr th:only-of-type {\n",
              "        vertical-align: middle;\n",
              "    }\n",
              "\n",
              "    .dataframe tbody tr th {\n",
              "        vertical-align: top;\n",
              "    }\n",
              "\n",
              "    .dataframe thead th {\n",
              "        text-align: right;\n",
              "    }\n",
              "</style>\n",
              "<table border=\"1\" class=\"dataframe\">\n",
              "  <thead>\n",
              "    <tr style=\"text-align: right;\">\n",
              "      <th></th>\n",
              "      <th>text_chunk</th>\n",
              "      <th>fname</th>\n",
              "    </tr>\n",
              "  </thead>\n",
              "  <tbody>\n",
              "    <tr>\n",
              "      <th>0</th>\n",
              "      <td>{Kaggle Docs: Public API} Public API\\nCreate D...</td>\n",
              "      <td>publicapi.txt</td>\n",
              "    </tr>\n",
              "    <tr>\n",
              "      <th>1</th>\n",
              "      <td>{Kaggle Docs: Public API} Getting Started: Ins...</td>\n",
              "      <td>publicapi.txt</td>\n",
              "    </tr>\n",
              "    <tr>\n",
              "      <th>2</th>\n",
              "      <td>{Kaggle Docs: Public API} Interacting with Com...</td>\n",
              "      <td>publicapi.txt</td>\n",
              "    </tr>\n",
              "    <tr>\n",
              "      <th>3</th>\n",
              "      <td>{Kaggle Docs: Public API} Interacting with Dat...</td>\n",
              "      <td>publicapi.txt</td>\n",
              "    </tr>\n",
              "    <tr>\n",
              "      <th>4</th>\n",
              "      <td>{Kaggle Docs: Public API} Interacting with Not...</td>\n",
              "      <td>publicapi.txt</td>\n",
              "    </tr>\n",
              "  </tbody>\n",
              "</table>\n",
              "</div>"
            ],
            "text/plain": [
              "                                          text_chunk          fname\n",
              "0  {Kaggle Docs: Public API} Public API\\nCreate D...  publicapi.txt\n",
              "1  {Kaggle Docs: Public API} Getting Started: Ins...  publicapi.txt\n",
              "2  {Kaggle Docs: Public API} Interacting with Com...  publicapi.txt\n",
              "3  {Kaggle Docs: Public API} Interacting with Dat...  publicapi.txt\n",
              "4  {Kaggle Docs: Public API} Interacting with Not...  publicapi.txt"
            ]
          },
          "execution_count": 10,
          "metadata": {},
          "output_type": "execute_result"
        }
      ],
      "source": [
        "# Load all txt files\n",
        "\n",
        "for i, fname in enumerate(file_list):\n",
        "\n",
        "    file_path = base_path + '/cleaned-txt-kaggle/' + fname\n",
        "\n",
        "    with open(file_path, \"r\") as file:\n",
        "\n",
        "        # read the file\n",
        "        content = file.read()\n",
        "\n",
        "        # split by the # symbol\n",
        "        lines = content.split(\"###\")\n",
        "\n",
        "        # create the chunks\n",
        "        chunk_list = [line.strip() for line in lines]\n",
        "\n",
        "    # Create a dataframe\n",
        "\n",
        "    cols = ['text_chunk']\n",
        "    df = pd.DataFrame(chunk_list, columns=cols)\n",
        "\n",
        "    # Add the fname\n",
        "    df['fname'] = fname\n",
        "\n",
        "    if i == 0:\n",
        "        df_data = df.copy()\n",
        "    else:\n",
        "        df_data = pd.concat([df_data, df], axis=0)\n",
        "\n",
        "\n",
        "# Reset the index\n",
        "df_data = df_data.reset_index(drop=True)\n",
        "\n",
        "print(df_data.shape)\n",
        "\n",
        "df_data.head()"
      ]
    },
    {
      "cell_type": "code",
      "execution_count": null,
      "id": "38309d40",
      "metadata": {
        "execution": {
          "iopub.execute_input": "2024-02-23T10:02:05.619501Z",
          "iopub.status.busy": "2024-02-23T10:02:05.619034Z",
          "iopub.status.idle": "2024-02-23T10:02:05.632434Z",
          "shell.execute_reply": "2024-02-23T10:02:05.631121Z"
        },
        "papermill": {
          "duration": 0.038001,
          "end_time": "2024-02-23T10:02:05.635286",
          "exception": false,
          "start_time": "2024-02-23T10:02:05.597285",
          "status": "completed"
        },
        "tags": [],
        "id": "38309d40",
        "outputId": "2639cb46-18ad-4ebb-d612-7d33bfb88c69"
      },
      "outputs": [
        {
          "data": {
            "text/plain": [
              "array(['publicapi.txt', 'notebooks.txt', 'tpu.txt', 'organizations.txt',\n",
              "       'datasets.txt', 'models.txt', 'efficientgou.txt',\n",
              "       'competitionssetup.txt', 'meetourteam.txt',\n",
              "       'communityguidelines.txt', 'competitions.txt', 'privacypolicy.txt'],\n",
              "      dtype=object)"
            ]
          },
          "execution_count": 11,
          "metadata": {},
          "output_type": "execute_result"
        }
      ],
      "source": [
        "df_data['fname'].unique()"
      ]
    },
    {
      "cell_type": "markdown",
      "id": "3155947c",
      "metadata": {
        "papermill": {
          "duration": 0.01969,
          "end_time": "2024-02-23T10:02:05.675124",
          "exception": false,
          "start_time": "2024-02-23T10:02:05.655434",
          "status": "completed"
        },
        "tags": [],
        "id": "3155947c"
      },
      "source": [
        "## Clean the data"
      ]
    },
    {
      "cell_type": "code",
      "execution_count": null,
      "id": "bdfec744",
      "metadata": {
        "execution": {
          "iopub.execute_input": "2024-02-23T10:02:05.719212Z",
          "iopub.status.busy": "2024-02-23T10:02:05.718437Z",
          "iopub.status.idle": "2024-02-23T10:02:05.734049Z",
          "shell.execute_reply": "2024-02-23T10:02:05.733103Z"
        },
        "papermill": {
          "duration": 0.041076,
          "end_time": "2024-02-23T10:02:05.736796",
          "exception": false,
          "start_time": "2024-02-23T10:02:05.695720",
          "status": "completed"
        },
        "tags": [],
        "id": "bdfec744",
        "outputId": "85f66c70-4df6-44ca-f5ef-ae8783d0b406"
      },
      "outputs": [
        {
          "data": {
            "text/html": [
              "<div>\n",
              "<style scoped>\n",
              "    .dataframe tbody tr th:only-of-type {\n",
              "        vertical-align: middle;\n",
              "    }\n",
              "\n",
              "    .dataframe tbody tr th {\n",
              "        vertical-align: top;\n",
              "    }\n",
              "\n",
              "    .dataframe thead th {\n",
              "        text-align: right;\n",
              "    }\n",
              "</style>\n",
              "<table border=\"1\" class=\"dataframe\">\n",
              "  <thead>\n",
              "    <tr style=\"text-align: right;\">\n",
              "      <th></th>\n",
              "      <th>text_chunk</th>\n",
              "      <th>fname</th>\n",
              "      <th>prepared_text</th>\n",
              "    </tr>\n",
              "  </thead>\n",
              "  <tbody>\n",
              "    <tr>\n",
              "      <th>0</th>\n",
              "      <td>{Kaggle Docs: Public API} Public API\\nCreate D...</td>\n",
              "      <td>publicapi.txt</td>\n",
              "      <td>{Kaggle Docs: Public API} Public API Create Da...</td>\n",
              "    </tr>\n",
              "    <tr>\n",
              "      <th>1</th>\n",
              "      <td>{Kaggle Docs: Public API} Getting Started: Ins...</td>\n",
              "      <td>publicapi.txt</td>\n",
              "      <td>{Kaggle Docs: Public API} Getting Started: Ins...</td>\n",
              "    </tr>\n",
              "    <tr>\n",
              "      <th>2</th>\n",
              "      <td>{Kaggle Docs: Public API} Interacting with Com...</td>\n",
              "      <td>publicapi.txt</td>\n",
              "      <td>{Kaggle Docs: Public API} Interacting with Com...</td>\n",
              "    </tr>\n",
              "    <tr>\n",
              "      <th>3</th>\n",
              "      <td>{Kaggle Docs: Public API} Interacting with Dat...</td>\n",
              "      <td>publicapi.txt</td>\n",
              "      <td>{Kaggle Docs: Public API} Interacting with Dat...</td>\n",
              "    </tr>\n",
              "    <tr>\n",
              "      <th>4</th>\n",
              "      <td>{Kaggle Docs: Public API} Interacting with Not...</td>\n",
              "      <td>publicapi.txt</td>\n",
              "      <td>{Kaggle Docs: Public API} Interacting with Not...</td>\n",
              "    </tr>\n",
              "  </tbody>\n",
              "</table>\n",
              "</div>"
            ],
            "text/plain": [
              "                                          text_chunk          fname  \\\n",
              "0  {Kaggle Docs: Public API} Public API\\nCreate D...  publicapi.txt   \n",
              "1  {Kaggle Docs: Public API} Getting Started: Ins...  publicapi.txt   \n",
              "2  {Kaggle Docs: Public API} Interacting with Com...  publicapi.txt   \n",
              "3  {Kaggle Docs: Public API} Interacting with Dat...  publicapi.txt   \n",
              "4  {Kaggle Docs: Public API} Interacting with Not...  publicapi.txt   \n",
              "\n",
              "                                       prepared_text  \n",
              "0  {Kaggle Docs: Public API} Public API Create Da...  \n",
              "1  {Kaggle Docs: Public API} Getting Started: Ins...  \n",
              "2  {Kaggle Docs: Public API} Interacting with Com...  \n",
              "3  {Kaggle Docs: Public API} Interacting with Dat...  \n",
              "4  {Kaggle Docs: Public API} Interacting with Not...  "
            ]
          },
          "execution_count": 12,
          "metadata": {},
          "output_type": "execute_result"
        }
      ],
      "source": [
        "# Replace newline characters ('\\n') with a space\n",
        "# Remove leading and trailing spaces\n",
        "\n",
        "def clean_text(x):\n",
        "\n",
        "    # Replace newline characters with a space\n",
        "    new_text = x.replace(\"\\n\", \" \")\n",
        "    # Remove leading and trailing spaces\n",
        "    new_text = new_text.strip()\n",
        "\n",
        "    return new_text\n",
        "\n",
        "df_data['prepared_text'] = df_data['text_chunk'].apply(clean_text)\n",
        "\n",
        "df_data.head()"
      ]
    },
    {
      "cell_type": "markdown",
      "id": "eaf5ae5e",
      "metadata": {
        "papermill": {
          "duration": 0.020166,
          "end_time": "2024-02-23T10:02:05.777114",
          "exception": false,
          "start_time": "2024-02-23T10:02:05.756948",
          "status": "completed"
        },
        "tags": [],
        "id": "eaf5ae5e"
      },
      "source": [
        "## Get the total number of tokens"
      ]
    },
    {
      "cell_type": "code",
      "execution_count": null,
      "id": "ce92e505",
      "metadata": {
        "execution": {
          "iopub.execute_input": "2024-02-23T10:02:05.820529Z",
          "iopub.status.busy": "2024-02-23T10:02:05.820072Z",
          "iopub.status.idle": "2024-02-23T10:02:05.861491Z",
          "shell.execute_reply": "2024-02-23T10:02:05.859955Z"
        },
        "papermill": {
          "duration": 0.067119,
          "end_time": "2024-02-23T10:02:05.864930",
          "exception": false,
          "start_time": "2024-02-23T10:02:05.797811",
          "status": "completed"
        },
        "tags": [],
        "id": "ce92e505"
      },
      "outputs": [],
      "source": [
        "# Ref: https://github.com/openai/openai-cookbook/blob/main/examples/How_to_count_tokens_with_tiktoken.ipynb\n",
        "\n",
        "import tiktoken\n",
        "\n",
        "# Function to calculate the number of tokens in a string\n",
        "def num_tokens_from_string(string: str, encoding_name: str) -> int:\n",
        "    \"\"\"Returns the number of tokens in a text string.\"\"\"\n",
        "    encoding = tiktoken.get_encoding(encoding_name)\n",
        "    num_tokens = len(encoding.encode(string))\n",
        "    return num_tokens"
      ]
    },
    {
      "cell_type": "code",
      "execution_count": null,
      "id": "6d9afd8b",
      "metadata": {
        "execution": {
          "iopub.execute_input": "2024-02-23T10:02:05.908663Z",
          "iopub.status.busy": "2024-02-23T10:02:05.908140Z",
          "iopub.status.idle": "2024-02-23T10:02:07.615396Z",
          "shell.execute_reply": "2024-02-23T10:02:07.613961Z"
        },
        "papermill": {
          "duration": 1.731425,
          "end_time": "2024-02-23T10:02:07.618081",
          "exception": false,
          "start_time": "2024-02-23T10:02:05.886656",
          "status": "completed"
        },
        "tags": [],
        "id": "6d9afd8b",
        "outputId": "5824f56f-7df7-44da-d883-0ec4dee1ad4d"
      },
      "outputs": [
        {
          "data": {
            "text/plain": [
              "6"
            ]
          },
          "execution_count": 14,
          "metadata": {},
          "output_type": "execute_result"
        }
      ],
      "source": [
        "# Example\n",
        "num_tokens_from_string(\"tiktoken is great!\", \"cl100k_base\")"
      ]
    },
    {
      "cell_type": "code",
      "execution_count": null,
      "id": "ae9828f0",
      "metadata": {
        "execution": {
          "iopub.execute_input": "2024-02-23T10:02:07.659837Z",
          "iopub.status.busy": "2024-02-23T10:02:07.659400Z",
          "iopub.status.idle": "2024-02-23T10:02:07.740178Z",
          "shell.execute_reply": "2024-02-23T10:02:07.738768Z"
        },
        "papermill": {
          "duration": 0.10575,
          "end_time": "2024-02-23T10:02:07.743529",
          "exception": false,
          "start_time": "2024-02-23T10:02:07.637779",
          "status": "completed"
        },
        "tags": [],
        "id": "ae9828f0",
        "outputId": "b834b0df-1cb2-4ad9-b6cc-ed39fcba9d84"
      },
      "outputs": [
        {
          "name": "stdout",
          "output_type": "stream",
          "text": [
            "(160, 4)\n",
            "43873\n"
          ]
        },
        {
          "data": {
            "text/html": [
              "<div>\n",
              "<style scoped>\n",
              "    .dataframe tbody tr th:only-of-type {\n",
              "        vertical-align: middle;\n",
              "    }\n",
              "\n",
              "    .dataframe tbody tr th {\n",
              "        vertical-align: top;\n",
              "    }\n",
              "\n",
              "    .dataframe thead th {\n",
              "        text-align: right;\n",
              "    }\n",
              "</style>\n",
              "<table border=\"1\" class=\"dataframe\">\n",
              "  <thead>\n",
              "    <tr style=\"text-align: right;\">\n",
              "      <th></th>\n",
              "      <th>text_chunk</th>\n",
              "      <th>fname</th>\n",
              "      <th>prepared_text</th>\n",
              "      <th>num_tokens</th>\n",
              "    </tr>\n",
              "  </thead>\n",
              "  <tbody>\n",
              "    <tr>\n",
              "      <th>0</th>\n",
              "      <td>{Kaggle Docs: Public API} Public API\\nCreate D...</td>\n",
              "      <td>publicapi.txt</td>\n",
              "      <td>{Kaggle Docs: Public API} Public API Create Da...</td>\n",
              "      <td>40</td>\n",
              "    </tr>\n",
              "    <tr>\n",
              "      <th>1</th>\n",
              "      <td>{Kaggle Docs: Public API} Getting Started: Ins...</td>\n",
              "      <td>publicapi.txt</td>\n",
              "      <td>{Kaggle Docs: Public API} Getting Started: Ins...</td>\n",
              "      <td>397</td>\n",
              "    </tr>\n",
              "    <tr>\n",
              "      <th>2</th>\n",
              "      <td>{Kaggle Docs: Public API} Interacting with Com...</td>\n",
              "      <td>publicapi.txt</td>\n",
              "      <td>{Kaggle Docs: Public API} Interacting with Com...</td>\n",
              "      <td>396</td>\n",
              "    </tr>\n",
              "    <tr>\n",
              "      <th>3</th>\n",
              "      <td>{Kaggle Docs: Public API} Interacting with Dat...</td>\n",
              "      <td>publicapi.txt</td>\n",
              "      <td>{Kaggle Docs: Public API} Interacting with Dat...</td>\n",
              "      <td>766</td>\n",
              "    </tr>\n",
              "    <tr>\n",
              "      <th>4</th>\n",
              "      <td>{Kaggle Docs: Public API} Interacting with Not...</td>\n",
              "      <td>publicapi.txt</td>\n",
              "      <td>{Kaggle Docs: Public API} Interacting with Not...</td>\n",
              "      <td>747</td>\n",
              "    </tr>\n",
              "  </tbody>\n",
              "</table>\n",
              "</div>"
            ],
            "text/plain": [
              "                                          text_chunk          fname  \\\n",
              "0  {Kaggle Docs: Public API} Public API\\nCreate D...  publicapi.txt   \n",
              "1  {Kaggle Docs: Public API} Getting Started: Ins...  publicapi.txt   \n",
              "2  {Kaggle Docs: Public API} Interacting with Com...  publicapi.txt   \n",
              "3  {Kaggle Docs: Public API} Interacting with Dat...  publicapi.txt   \n",
              "4  {Kaggle Docs: Public API} Interacting with Not...  publicapi.txt   \n",
              "\n",
              "                                       prepared_text  num_tokens  \n",
              "0  {Kaggle Docs: Public API} Public API Create Da...          40  \n",
              "1  {Kaggle Docs: Public API} Getting Started: Ins...         397  \n",
              "2  {Kaggle Docs: Public API} Interacting with Com...         396  \n",
              "3  {Kaggle Docs: Public API} Interacting with Dat...         766  \n",
              "4  {Kaggle Docs: Public API} Interacting with Not...         747  "
            ]
          },
          "execution_count": 15,
          "metadata": {},
          "output_type": "execute_result"
        }
      ],
      "source": [
        "def get_num_tokens(x):\n",
        "\n",
        "    num_tokens = num_tokens_from_string(x, \"cl100k_base\")\n",
        "\n",
        "    return num_tokens\n",
        "\n",
        "df_data['num_tokens'] = df_data['prepared_text'].apply(get_num_tokens)\n",
        "\n",
        "print(df_data.shape)\n",
        "print(df_data['num_tokens'].sum())\n",
        "\n",
        "df_data.head()"
      ]
    },
    {
      "cell_type": "markdown",
      "id": "c101f0bc",
      "metadata": {
        "papermill": {
          "duration": 0.019867,
          "end_time": "2024-02-23T10:02:07.783657",
          "exception": false,
          "start_time": "2024-02-23T10:02:07.763790",
          "status": "completed"
        },
        "tags": [],
        "id": "c101f0bc"
      },
      "source": [
        "## Estimate the cost for creating the embeddings"
      ]
    },
    {
      "cell_type": "code",
      "execution_count": null,
      "id": "6be9524e",
      "metadata": {
        "execution": {
          "iopub.execute_input": "2024-02-23T10:02:07.826818Z",
          "iopub.status.busy": "2024-02-23T10:02:07.825512Z",
          "iopub.status.idle": "2024-02-23T10:02:07.831488Z",
          "shell.execute_reply": "2024-02-23T10:02:07.830139Z"
        },
        "papermill": {
          "duration": 0.030582,
          "end_time": "2024-02-23T10:02:07.834343",
          "exception": false,
          "start_time": "2024-02-23T10:02:07.803761",
          "status": "completed"
        },
        "tags": [],
        "id": "6be9524e"
      },
      "outputs": [],
      "source": [
        "# https://openai.com/pricing\n",
        "# at 22-Feb-2024\n",
        "\n",
        "# text-embedding-3-small\t$0.00002 / 1K tokens # US Dollars\n",
        "# text-embedding-3-large\t$0.00013 / 1K tokens # US Dollars\n",
        "# ada v2\t$0.00010 / 1K tokens # US Dollars"
      ]
    },
    {
      "cell_type": "code",
      "execution_count": null,
      "id": "34ee57e5",
      "metadata": {
        "execution": {
          "iopub.execute_input": "2024-02-23T10:02:07.877590Z",
          "iopub.status.busy": "2024-02-23T10:02:07.876860Z",
          "iopub.status.idle": "2024-02-23T10:02:07.883999Z",
          "shell.execute_reply": "2024-02-23T10:02:07.882609Z"
        },
        "papermill": {
          "duration": 0.031883,
          "end_time": "2024-02-23T10:02:07.886753",
          "exception": false,
          "start_time": "2024-02-23T10:02:07.854870",
          "status": "completed"
        },
        "tags": [],
        "id": "34ee57e5",
        "outputId": "844bfe6c-9e73-4f79-ea21-a653c3567f16"
      },
      "outputs": [
        {
          "name": "stdout",
          "output_type": "stream",
          "text": [
            "Num papers: 160\n",
            "Total tokens: 43873\n",
            "Total cost (USD): 0.00087746\n"
          ]
        }
      ],
      "source": [
        "total_tokens = df_data['num_tokens'].sum()\n",
        "cost_per_1000_tokens = 0.00002 #  text-embedding-3-small\n",
        "\n",
        "total_cost = (total_tokens/1000) * cost_per_1000_tokens\n",
        "\n",
        "print('Num papers:',len(df_data))\n",
        "print('Total tokens:',total_tokens)\n",
        "print('Total cost (USD):',total_cost) # US Dollars"
      ]
    },
    {
      "cell_type": "code",
      "execution_count": null,
      "id": "cec96c66",
      "metadata": {
        "execution": {
          "iopub.execute_input": "2024-02-23T10:02:08.027604Z",
          "iopub.status.busy": "2024-02-23T10:02:08.026827Z",
          "iopub.status.idle": "2024-02-23T10:02:08.031194Z",
          "shell.execute_reply": "2024-02-23T10:02:08.030376Z"
        },
        "papermill": {
          "duration": 0.032361,
          "end_time": "2024-02-23T10:02:08.033606",
          "exception": false,
          "start_time": "2024-02-23T10:02:08.001245",
          "status": "completed"
        },
        "tags": [],
        "id": "cec96c66"
      },
      "outputs": [],
      "source": [
        "#qqq"
      ]
    },
    {
      "cell_type": "markdown",
      "id": "26f55eba",
      "metadata": {
        "papermill": {
          "duration": 0.020505,
          "end_time": "2024-02-23T10:02:08.075237",
          "exception": false,
          "start_time": "2024-02-23T10:02:08.054732",
          "status": "completed"
        },
        "tags": [],
        "id": "26f55eba"
      },
      "source": [
        "## Create a list of dicts"
      ]
    },
    {
      "cell_type": "code",
      "execution_count": null,
      "id": "5b5b952d",
      "metadata": {
        "execution": {
          "iopub.execute_input": "2024-02-23T10:02:08.120349Z",
          "iopub.status.busy": "2024-02-23T10:02:08.118941Z",
          "iopub.status.idle": "2024-02-23T10:02:08.125129Z",
          "shell.execute_reply": "2024-02-23T10:02:08.124360Z"
        },
        "papermill": {
          "duration": 0.03178,
          "end_time": "2024-02-23T10:02:08.127544",
          "exception": false,
          "start_time": "2024-02-23T10:02:08.095764",
          "status": "completed"
        },
        "tags": [],
        "id": "5b5b952d"
      },
      "outputs": [],
      "source": [
        "# Example data format for upload to the vector database\n",
        "\n",
        "data = [\n",
        "   {\n",
        "      \"title\": \"Object0\",\n",
        "      \"foo\": 99,\n",
        "      \"quote_text\": \"The quick brown fox jumps over the lazy dog.\"\n",
        "   },\n",
        "   {\n",
        "      \"title\": \"Object1\",\n",
        "      \"foo\": 77,\n",
        "      \"quote_text\": \"A nimble red fox leaped over the sleeping hound.\"\n",
        "   }\n",
        "]\n",
        ""
      ]
    },
    {
      "cell_type": "code",
      "execution_count": null,
      "id": "fbe8a6b4",
      "metadata": {
        "execution": {
          "iopub.execute_input": "2024-02-23T10:02:08.173504Z",
          "iopub.status.busy": "2024-02-23T10:02:08.173034Z",
          "iopub.status.idle": "2024-02-23T10:02:08.186168Z",
          "shell.execute_reply": "2024-02-23T10:02:08.184832Z"
        },
        "papermill": {
          "duration": 0.039409,
          "end_time": "2024-02-23T10:02:08.189147",
          "exception": false,
          "start_time": "2024-02-23T10:02:08.149738",
          "status": "completed"
        },
        "tags": [],
        "id": "fbe8a6b4",
        "outputId": "46eaa130-8cba-499a-d271-b38878350ef0"
      },
      "outputs": [
        {
          "data": {
            "text/plain": [
              "160"
            ]
          },
          "execution_count": 20,
          "metadata": {},
          "output_type": "execute_result"
        }
      ],
      "source": [
        "data_list = []\n",
        "\n",
        "df_final = df_data.copy()\n",
        "\n",
        "for i in range(0, len(df_final)):\n",
        "\n",
        "    data = {\n",
        "        \"prepared_text\": df_final.loc[i, 'prepared_text']\n",
        "    }\n",
        "\n",
        "    data_list.append(data)\n",
        "\n",
        "len(data_list)"
      ]
    },
    {
      "cell_type": "code",
      "execution_count": null,
      "id": "04c3c41c",
      "metadata": {
        "execution": {
          "iopub.execute_input": "2024-02-23T10:02:08.235036Z",
          "iopub.status.busy": "2024-02-23T10:02:08.234268Z",
          "iopub.status.idle": "2024-02-23T10:02:08.241344Z",
          "shell.execute_reply": "2024-02-23T10:02:08.240213Z"
        },
        "papermill": {
          "duration": 0.033538,
          "end_time": "2024-02-23T10:02:08.244164",
          "exception": false,
          "start_time": "2024-02-23T10:02:08.210626",
          "status": "completed"
        },
        "tags": [],
        "id": "04c3c41c",
        "outputId": "5810c270-f3cb-4362-8176-7785a2065863"
      },
      "outputs": [
        {
          "data": {
            "text/plain": [
              "{'prepared_text': '{Kaggle Docs: Public API} Interacting with Datasets  The Kaggle API and CLI tool provide easy ways to interact with Datasets on Kaggle. The commands available can make searching for and downloading Kaggle Datasets a seamless part of your data science workflow.  If you haven’t installed the Kaggle Python package needed to use the command line tool or generated an API token, check out the getting started steps first.  Some of the commands for interacting with Datasets via CLI include:  - kaggle datasets list -s [KEYWORD]: list datasets matching a search term - kaggle datasets download -d [DATASET]: download files associated with a dataset  If you are creating or updating a dataset on Kaggle, you can also use the API to make maintenance convenient or even programmatic. View all available commands on the official documentation on GitHub and keep up-to-date with the latest features and bug fixes in the changelog.  To explore additional CLI arguments, remember that you can always append -h after any call to see the help menu for that command.  Other than the Kaggle API, there is also a Kaggle connector on DataStudio! You can select Kaggle Datasets as a data source to import directly into DataStudio. Work in DataStudio to easily create beautiful and effective dashboards on Kaggle Datasets!  Creating and Maintaining Datasets The Kaggle API can be used to to create new Datasets and Dataset versions on Kaggle from the comfort of the command-line. This can make sharing data and projects on Kaggle a simple part of your workflow. You can even use the API plus a tool like crontab to schedule programmatic updates of your Datasets to keep them well maintained.  If you haven’t installed the Kaggle Python package needed to use the command line tool or generated an API token, check out the getting started steps first.  Create a New Dataset Here are the steps you can follow to create a new dataset on Kaggle:  - Create a folder containing the files you want to upload - Run kaggle datasets init -p /path/to/dataset to generate a metadata file - Add your dataset’s metadata to the generated file, datapackage.json - Run kaggle datasets create -p /path/to/dataset to create the dataset  Your dataset will be private by default. You can also add a -u flag to make it public when you create it, or navigate to “Settings” > “Sharing” from your dataset’s page to make it public or share with collaborators.  Create a New Dataset Version If you’d like to upload a new version of an existing dataset, follow these steps:  - Run kaggle datasets init -p /path/to/dataset to generate a metadata file (if you don’t already have one) - Make sure the id field in dataset-metadata.json (or datapackage.json) points to your dataset - Run kaggle datasets version -p /path/to/dataset -m \"Your message here\"  These instructions are the basic commands required to get started with creating and updating Datasets on Kaggle. You can find out more details from the official documentation on GitHub: - Initializing metadata - Create a Dataset - Update a Dataset  Working with Dataset Metadata If you want a faster way to complete the required dataset-metadata.json file (for example, if you want to add column-level descriptions for many tabular data files), we recommend using Frictionless Data’s Data Package Creator. Simply upload the dataset-metadata.json file that you’ve initialized for your dataset, fill out metadata in the user interface, and download the result.  To explore some further CLI arguments, remember that you can always append -h after any call to see the help menu for that command.'}"
            ]
          },
          "execution_count": 21,
          "metadata": {},
          "output_type": "execute_result"
        }
      ],
      "source": [
        "data_list[3]"
      ]
    },
    {
      "cell_type": "markdown",
      "id": "15d78db9",
      "metadata": {
        "papermill": {
          "duration": 0.020752,
          "end_time": "2024-02-23T10:02:08.286391",
          "exception": false,
          "start_time": "2024-02-23T10:02:08.265639",
          "status": "completed"
        },
        "tags": [],
        "id": "15d78db9"
      },
      "source": [
        "## Create the vector database"
      ]
    },
    {
      "cell_type": "code",
      "execution_count": null,
      "id": "3eb3586e",
      "metadata": {
        "execution": {
          "iopub.execute_input": "2024-02-23T10:02:08.331780Z",
          "iopub.status.busy": "2024-02-23T10:02:08.331345Z",
          "iopub.status.idle": "2024-02-23T10:02:09.593356Z",
          "shell.execute_reply": "2024-02-23T10:02:09.592408Z"
        },
        "papermill": {
          "duration": 1.288494,
          "end_time": "2024-02-23T10:02:09.596412",
          "exception": false,
          "start_time": "2024-02-23T10:02:08.307918",
          "status": "completed"
        },
        "tags": [],
        "id": "3eb3586e",
        "outputId": "7214fc98-d999-4554-cc20-0b6d9e3f0cd6"
      },
      "outputs": [
        {
          "name": "stderr",
          "output_type": "stream",
          "text": [
            "/opt/conda/lib/python3.10/site-packages/weaviate/warnings.py:121: DeprecationWarning: Dep005: You are using weaviate-client version 3.26.2. The latest version is 4.4.4.\n",
            "            Please consider upgrading to the latest version. See https://weaviate.io/developers/weaviate/client-libraries/python for details.\n",
            "  warnings.warn(\n"
          ]
        },
        {
          "data": {
            "text/plain": [
              "True"
            ]
          },
          "execution_count": 22,
          "metadata": {},
          "output_type": "execute_result"
        }
      ],
      "source": [
        "# Connect\n",
        "\n",
        "import weaviate\n",
        "import json\n",
        "\n",
        "client = weaviate.Client(\n",
        "    url = WCS_ENDPOINT,  # Replace with your endpoint\n",
        "    auth_client_secret=weaviate.auth.AuthApiKey(api_key=WCS_API_KEY),  # Replace w/ your Weaviate instance API key\n",
        "    additional_headers = {\n",
        "        \"X-OpenAI-Api-Key\": OPENAI_API_KEY  # Replace with your inference API key\n",
        "    }\n",
        ")\n",
        "\n",
        "client.is_ready()"
      ]
    },
    {
      "cell_type": "code",
      "execution_count": null,
      "id": "33991a5b",
      "metadata": {
        "execution": {
          "iopub.execute_input": "2024-02-23T10:02:09.646115Z",
          "iopub.status.busy": "2024-02-23T10:02:09.643408Z",
          "iopub.status.idle": "2024-02-23T10:02:10.379410Z",
          "shell.execute_reply": "2024-02-23T10:02:10.378053Z"
        },
        "papermill": {
          "duration": 0.763616,
          "end_time": "2024-02-23T10:02:10.382447",
          "exception": false,
          "start_time": "2024-02-23T10:02:09.618831",
          "status": "completed"
        },
        "tags": [],
        "id": "33991a5b"
      },
      "outputs": [],
      "source": [
        "# https://weaviate.io/developers/weaviate/modules/retriever-vectorizer-modules/text2vec-openai#api-settings-openai\n",
        "# Configure the database\n",
        "\n",
        "# resetting the schema. CAUTION: This will delete your collection\n",
        "if client.schema.exists(VECTOR_DB_NAME):\n",
        "     client.schema.delete_class(VECTOR_DB_NAME)\n",
        "\n",
        "\n",
        "# Create a Table in the database.\n",
        "# We call this table a \"class\".\n",
        "\n",
        "class_obj = {\n",
        "    \"class\": VECTOR_DB_NAME, # This is the name of the database table\n",
        "    \"vectorizer\": \"text2vec-openai\",  # If set to \"none\" you must always provide vectors yourself. Could be any other \"text2vec-*\" also.\n",
        "    \"moduleConfig\": {\n",
        "        \"text2vec-openai\": {\n",
        "            # \"model\": \"ada\",\n",
        "            # \"modelVersion\": \"002\",\n",
        "          #\"model\": \"text-embedding-3-large\",\n",
        "          #\"dimensions\": 3072,\n",
        "          \"model\": \"text-embedding-3-small\",\n",
        "          \"dimensions\": 1536,\n",
        "            \"type\": \"text\",\n",
        "        },\n",
        "        \"generative-openai\": {}  # Ensure the `generative-openai` module is used for generative queries\n",
        "    }\n",
        "}\n",
        "\n",
        "client.schema.create_class(class_obj)"
      ]
    },
    {
      "cell_type": "markdown",
      "id": "ed5cec1b",
      "metadata": {
        "papermill": {
          "duration": 0.020936,
          "end_time": "2024-02-23T10:02:10.424267",
          "exception": false,
          "start_time": "2024-02-23T10:02:10.403331",
          "status": "completed"
        },
        "tags": [],
        "id": "ed5cec1b"
      },
      "source": [
        "## Upload the data to the vector database"
      ]
    },
    {
      "cell_type": "code",
      "execution_count": null,
      "id": "867e6d99",
      "metadata": {
        "execution": {
          "iopub.execute_input": "2024-02-23T10:02:10.468271Z",
          "iopub.status.busy": "2024-02-23T10:02:10.467471Z",
          "iopub.status.idle": "2024-02-23T10:02:10.473754Z",
          "shell.execute_reply": "2024-02-23T10:02:10.472699Z"
        },
        "papermill": {
          "duration": 0.031428,
          "end_time": "2024-02-23T10:02:10.476398",
          "exception": false,
          "start_time": "2024-02-23T10:02:10.444970",
          "status": "completed"
        },
        "tags": [],
        "id": "867e6d99",
        "outputId": "ec0be0b3-8a16-4b76-a6b0-fc6f5e46161f"
      },
      "outputs": [
        {
          "data": {
            "text/plain": [
              "100"
            ]
          },
          "execution_count": 24,
          "metadata": {},
          "output_type": "execute_result"
        }
      ],
      "source": [
        "BATCH_SIZE"
      ]
    },
    {
      "cell_type": "code",
      "execution_count": null,
      "id": "2e0b4200",
      "metadata": {
        "execution": {
          "iopub.execute_input": "2024-02-23T10:02:10.519769Z",
          "iopub.status.busy": "2024-02-23T10:02:10.519271Z",
          "iopub.status.idle": "2024-02-23T10:02:23.289606Z",
          "shell.execute_reply": "2024-02-23T10:02:23.287796Z"
        },
        "papermill": {
          "duration": 12.795849,
          "end_time": "2024-02-23T10:02:23.292939",
          "exception": false,
          "start_time": "2024-02-23T10:02:10.497090",
          "status": "completed"
        },
        "tags": [],
        "id": "2e0b4200",
        "outputId": "d01328d3-6554-4df0-e73b-ea6cea527c0e"
      },
      "outputs": [
        {
          "name": "stderr",
          "output_type": "stream",
          "text": [
            "100%|██████████| 160/160 [00:11<00:00, 14.27it/s]\n"
          ]
        }
      ],
      "source": [
        "import requests\n",
        "import json\n",
        "from tqdm import tqdm\n",
        "\n",
        "client.batch.configure(batch_size=BATCH_SIZE)  # Configure batch\n",
        "with client.batch as batch:  # Initialize a batch process\n",
        "    for i, data in enumerate(tqdm(data_list, total=len(data_list))):  # Batch import data\n",
        "        #print(f\"importing chunk: {i+1}\")\n",
        "        properties = {\n",
        "            \"prepared_text\": data[\"prepared_text\"]\n",
        "        }\n",
        "        batch.add_data_object(\n",
        "            data_object=properties,\n",
        "            class_name=VECTOR_DB_NAME\n",
        "        )"
      ]
    },
    {
      "cell_type": "code",
      "execution_count": null,
      "id": "afd464ad",
      "metadata": {
        "execution": {
          "iopub.execute_input": "2024-02-23T10:02:23.338588Z",
          "iopub.status.busy": "2024-02-23T10:02:23.338085Z",
          "iopub.status.idle": "2024-02-23T10:02:23.577029Z",
          "shell.execute_reply": "2024-02-23T10:02:23.575428Z"
        },
        "papermill": {
          "duration": 0.265007,
          "end_time": "2024-02-23T10:02:23.579741",
          "exception": false,
          "start_time": "2024-02-23T10:02:23.314734",
          "status": "completed"
        },
        "tags": [],
        "id": "afd464ad",
        "outputId": "a06e78e6-a8d3-41b8-ec0a-95247e56428d"
      },
      "outputs": [
        {
          "name": "stdout",
          "output_type": "stream",
          "text": [
            "{'data': {'Aggregate': {'KAGGLE_DOCS_VDB': [{'meta': {'count': 160}}]}}}\n"
          ]
        }
      ],
      "source": [
        "# Check number of objects in MyTable1\n",
        "\n",
        "response = (\n",
        "    client.query\n",
        "    .aggregate(VECTOR_DB_NAME)\n",
        "    .with_meta_count()\n",
        "    .do()\n",
        ")\n",
        "\n",
        "print(response)"
      ]
    },
    {
      "cell_type": "markdown",
      "id": "df3f182d",
      "metadata": {
        "papermill": {
          "duration": 0.022765,
          "end_time": "2024-02-23T10:02:23.624751",
          "exception": false,
          "start_time": "2024-02-23T10:02:23.601986",
          "status": "completed"
        },
        "tags": [],
        "id": "df3f182d"
      },
      "source": [
        "## Example: Query the database\n",
        "\n",
        "Here we will run a hybrid search."
      ]
    },
    {
      "cell_type": "code",
      "execution_count": null,
      "id": "12a394ed",
      "metadata": {
        "execution": {
          "iopub.execute_input": "2024-02-23T10:02:23.672467Z",
          "iopub.status.busy": "2024-02-23T10:02:23.671966Z",
          "iopub.status.idle": "2024-02-23T10:02:24.379281Z",
          "shell.execute_reply": "2024-02-23T10:02:24.377919Z"
        },
        "papermill": {
          "duration": 0.734486,
          "end_time": "2024-02-23T10:02:24.382115",
          "exception": false,
          "start_time": "2024-02-23T10:02:23.647629",
          "status": "completed"
        },
        "tags": [],
        "id": "12a394ed",
        "outputId": "d7debc18-7bfa-4832-a3b5-cfe6d48063ba"
      },
      "outputs": [
        {
          "data": {
            "text/plain": [
              "True"
            ]
          },
          "execution_count": 27,
          "metadata": {},
          "output_type": "execute_result"
        }
      ],
      "source": [
        "# Connect to the database\n",
        "\n",
        "import weaviate\n",
        "import json\n",
        "\n",
        "wcs_client = weaviate.Client(\n",
        "    url = WCS_ENDPOINT,  # Replace with your endpoint\n",
        "    auth_client_secret=weaviate.auth.AuthApiKey(api_key=WCS_API_KEY),  # Replace w/ your Weaviate instance API key\n",
        "    additional_headers = {\n",
        "        \"X-OpenAI-Api-Key\": OPENAI_API_KEY,\n",
        "        \"X-Cohere-Api-Key\": COHERE_API_KEY\n",
        "    }\n",
        ")\n",
        "\n",
        "# check that the client is ready\n",
        "wcs_client.is_ready()"
      ]
    },
    {
      "cell_type": "code",
      "execution_count": null,
      "id": "a5ed5eb8",
      "metadata": {
        "execution": {
          "iopub.execute_input": "2024-02-23T10:02:24.429847Z",
          "iopub.status.busy": "2024-02-23T10:02:24.428788Z",
          "iopub.status.idle": "2024-02-23T10:02:24.983949Z",
          "shell.execute_reply": "2024-02-23T10:02:24.982755Z"
        },
        "papermill": {
          "duration": 0.583348,
          "end_time": "2024-02-23T10:02:24.987839",
          "exception": false,
          "start_time": "2024-02-23T10:02:24.404491",
          "status": "completed"
        },
        "tags": [],
        "id": "a5ed5eb8",
        "outputId": "ee089377-638e-4977-c08e-87bc8f15084f"
      },
      "outputs": [
        {
          "name": "stdout",
          "output_type": "stream",
          "text": [
            "{\n",
            "    \"data\": {\n",
            "        \"Get\": {\n",
            "            \"KAGGLE_DOCS_VDB\": [\n",
            "                {\n",
            "                    \"_additional\": {\n",
            "                        \"distance\": 0.30767936,\n",
            "                        \"id\": \"3330519f-0bf2-4e6a-a6bd-c9a7128a400a\"\n",
            "                    },\n",
            "                    \"prepared_text\": \"Kaggle Team Members (Employees) and their profiles Link to section in Kaggle website: https://www.kaggle.com/about/team   {Kaggle team member} D. Sculley CEO D. is the CEO at Kaggle. Prior to coming to Kaggle, he was a director at Google Brain, leading research teams working on robust, responsible, reliable and efficient ML and AI. In his career in ML, he has worked on nearly every aspect of machine learning, and has led both product and research teams including those on some of the most challenging business problems. Some of his well known work involves ML Technical Debt, ML Education, ML Robustness, production-critical ML, and ML for scientific applications such as protein design.\"\n",
            "                },\n",
            "                {\n",
            "                    \"_additional\": {\n",
            "                        \"distance\": 0.40295917,\n",
            "                        \"id\": \"57249bd6-d654-4668-9890-dc1a32e66158\"\n",
            "                    },\n",
            "                    \"prepared_text\": \"{Kaggle team member} Julia Elliott COO Julia Elliott is Kaggle's COO, overseeing its Operations, Strategy, Marketing, Developer Relations, and Program Management functions. She holds a degree in electrical engineering from the University of Pennsylvania and a MBA from the University of North Carolina at Chapel Hill. Prior to Kaggle, she worked at IBM and Upwork and is skilled at building scalable operational solutions for technology products that provide customer solutions. She's passionate about making technology more inclusive and accessible to historically marginalized communities.\"\n",
            "                },\n",
            "                {\n",
            "                    \"_additional\": {\n",
            "                        \"distance\": 0.43426406,\n",
            "                        \"id\": \"d4ef0e98-1f6f-4e31-ac4a-8efb3615ed08\"\n",
            "                    },\n",
            "                    \"prepared_text\": \"{Kaggle team member} AK Kulkarni Product Manager AK is a PM at Google and Kaggle. Prior to Google, AK worked at a marketing agency and an education management company as an analyst. He started his analytics career learning data science on Kaggle. AK studied Economics at the University of Miami (FL) and is learning game development in his spare time.\"\n",
            "                },\n",
            "                {\n",
            "                    \"_additional\": {\n",
            "                        \"distance\": 0.43533182,\n",
            "                        \"id\": \"e6f9fbb5-c259-43fd-a749-01abd98ccddf\"\n",
            "                    },\n",
            "                    \"prepared_text\": \"{Kaggle team member} Nate Keating Head of Product Prior to joining Kaggle, Nate was senior PM in Google Cloud on AI products. He holds a B.S. in Economics from Duke University. What would you like to see Kaggle do next?\"\n",
            "                },\n",
            "                {\n",
            "                    \"_additional\": {\n",
            "                        \"distance\": 0.4359706,\n",
            "                        \"id\": \"f346d06b-c355-4df1-87be-ef2d21344d06\"\n",
            "                    },\n",
            "                    \"prepared_text\": \"{Kaggle team member} Maggie Demkin Customer Success Maggie works with Kaggle hosts to launch competitions on the platform. She brings customer lifecycle management and operations experience from different industries to manage successful competitions. She has an MBA from the University of Chicago in Finance and Strategic Management as well as a Bachelors from the University of California, Berkeley.\"\n",
            "                },\n",
            "                {\n",
            "                    \"_additional\": {\n",
            "                        \"distance\": 0.43625003,\n",
            "                        \"id\": \"4f6d4e20-98a0-4caa-bd39-ec88468098c5\"\n",
            "                    },\n",
            "                    \"prepared_text\": \"{Kaggle team member} Jon Masukawa Developer Jon is a software engineer with a passion for building web applications that empower online creative communities to thrive. Prior to Kaggle, he worked at YouTube, and holds a Master's degree in Computer Science from the University of California, Irvine. When not writing code, he enjoys a good cup of coffee, board / video games, and cooking.\"\n",
            "                },\n",
            "                {\n",
            "                    \"_additional\": {\n",
            "                        \"distance\": 0.44157398,\n",
            "                        \"id\": \"214f44a6-d11a-4e1a-9c1f-03d7b2090317\"\n",
            "                    },\n",
            "                    \"prepared_text\": \"{Kaggle Docs: Competitions} Resources for Getting Started Getting Started The Getting Started Competitions are specifically targeted at new users getting their feet wet with Kaggle and/or machine learning:  - Binary classification: Titanic: Machine Learning from Disaster - Regression: House Prices: Advanced Regression Techniques  The Kaggle Learn platform has several tracks for beginners interested in free hands-on data science learning from pandas to deep learning. Lessons within a track are separated into easily digestible chunks and contain Notebook exercises for you to practise building models and new techniques hands-on. It is a great way to start deep diving into data science and quickly get familiar with the field!  What Kaggle has learned from almost 2MM machine learning models on Youtube. This data.bythebay.io talk by Kaggle founder Anthony Goldbloom lays out what Kaggle competitions are all about.  How to (almost) win at Kaggle on Youtube. In this talk competitor Kiri Nichols summarizes the appeal of Competitions as a data science learner.  Discussion  General Discussion: There are six general site Discussion Forums: - Kaggle Forum: Events and topics specific to the Kaggle community - Getting Started: The first stop for questions and discussion for new Kagglers - Product Feedback: Tell us what you love, hate, or wish for - Questions & Answers: Technical advice from other data scientists - Datasets: Requests for and discussion of open data - Learn: Questions, answers, and requests related to Kaggle Learn courses  Competition Discussion Forums: No matter the competition you are participating in, you can count on plenty of active community members making posts to the forums. If you get stuck on a particular aspect of the problem, Discussions are a great place to ask questions.  Competition Notebooks: Similar to Discussions, Notebooks shared within a competition are an excellent source of Exploratory Data Analyses (EDAs) & basic starter models which can be forked and built upon for applied learning.  The Kaggle Noobs Slack channel: This Slack channel is a popular watering hole for general banter among Kaggle ML practitioners from Novice to Grandmaster.  Techniques Public, reproducible code examples in Notebooks are a great way to learn and put to practice new techniques. Search for techniques in Notebooks by tag using the search syntax tag:classification. Fork Notebooks to make a copy of the code to modify and experiment with.  The No Free Hunch blog. No Free Hunch is a great way of keeping up with goings-on on Kaggle. Many past Competitions winners have been interviewed about and presented their winning models on No Free Hunch. Here are some examples of past winner\\u2019s interviews:  - NOAA Right Whale Identification - Instacart Market Basket Analysis, Winner\\u2019s Interview: 2nd place, Kazuki Onodera - Two Sigma Financial Modeling Code Competition  Various tutorials have been published on No Free Hunch:  - An Intuitive Introduction to Generative Adversarial Networks - Introduction To Neural Networks - A Kaggle Master Explains Gradient Boosting - A Kaggler\\u2019s Guide to Model Stacking in Practice - Marios Michailidis: How to become a Kaggle #1: An introduction to model stacking: In this Data Science Festival talk top Kaggler Marios Michailidis (Kasanova) explains model stacking, a key feature of winning competition models, in great detail. - Kaggle Grandmaster Panel: A panel Q&A from H2O World 2017 featuring some top Kagglers. - How to Win A Kaggle Competition - Learn From Top Kagglers: This Coursera course, put together by high-ranking Kagglers, going into great detail on the tools and techniques used by winning Competitions models.\"\n",
            "                },\n",
            "                {\n",
            "                    \"_additional\": {\n",
            "                        \"distance\": 0.4518262,\n",
            "                        \"id\": \"d11f0424-d34f-41c1-a922-0dc701cd1e87\"\n",
            "                    },\n",
            "                    \"prepared_text\": \"{Kaggle Docs: How to set up a competition} How Kaggle competitions work  Overview Every competition has two things, a) a clearly defined problem that participants need to solve using a machine learning model and b) a dataset that\\u2019s used both for training and evaluating the effectiveness of these models.  For example, in the Store Sales \\u2013 Time Series Forecasting competition, participants must accurately predict how many of each grocery item will sell using a dataset of past product and sales information from a grocery retailer.  Once the competition starts participants can submit their predictions, Kaggle will score them for accuracy, and the team will be placed on a ranked leaderboard. The team at the top of the leaderboard at the deadline wins!  Datasets, Submissions & Leaderboards Every competition\\u2019s dataset is split into two smaller datasets.  One of these smaller datasets will be given to participants to train their models, typically named train.csv.  The other dataset will be mostly hidden from participants and used by Kaggle for testing and scoring, named test.csv and solution.csv (test.csv is the same as solution.csv except that test.csv contains the feature values and solution.csv contains the ground truth variable(s) \\u2013 participants will never, ever see solution.csv ).  When a participant feels ready to make a submission to the competition, they will use test.csv to generate a prediction and upload a CSV file. Kaggle will automatically score the submission for accuracy using the hidden solution.csv file.  Most competitions have a maximum number of submissions that a participant can make each day and a final deadline at which point the leaderboard will be frozen.  It\\u2019s conceivable that a participant could use the mechanics of a Kaggle competition to overfit a solution - which would be great for winning a competition, but not valuable for a real-world application.  To help prevent this, Kaggle has two leaderboards \\u2013 the public and private leaderboard. The competition host splits the solution.csv dataset into two parts, using one part for the public leaderboard and another part for the private leaderboard. Participants generally will now know which samples are public vs private. The private leaderboard is kept a secret until after the competition deadline and is used as the official leaderboard for determining the final ranking.\"\n",
            "                },\n",
            "                {\n",
            "                    \"_additional\": {\n",
            "                        \"distance\": 0.45324665,\n",
            "                        \"id\": \"c82ff12b-cf0d-45ad-b45d-932ccc886edb\"\n",
            "                    },\n",
            "                    \"prepared_text\": \"{Kaggle team member} DJ Sterling Developer DJ is a software engineer with a passion for data science. Prior to joining Kaggle, DJ earned Bachelor's degrees in Math and Computer Science and a Master's degree in Computational Neuroscience, and was a software engineer on Google's Payments Team.\"\n",
            "                },\n",
            "                {\n",
            "                    \"_additional\": {\n",
            "                        \"distance\": 0.45374382,\n",
            "                        \"id\": \"38e791cc-f078-499a-b78c-a3f7d75da129\"\n",
            "                    },\n",
            "                    \"prepared_text\": \"{Kaggle team member} Ray Harvey Program Manager Ray is a Program Manager on Kaggle's Strategy and Operations team, focusing on community activation and impact. She is helping early in career data scientists grow in their journey and evolving the industry landscape through KaggleX. Ray holds a B.S. in Management from the University of San Francisco, and has over 10 year of experience in tech working in various functions, such as business development, customer experience and strategy & operations. She is interested in scaling sustainable solutions and passionate about diversity-equity-inclusion.\"\n",
            "                }\n",
            "            ]\n",
            "        }\n",
            "    }\n",
            "}\n"
          ]
        }
      ],
      "source": [
        "#query_text = \"General purpose computers\"\n",
        "query_text = \"Who is the CEO of Kaggle?\"\n",
        "\n",
        "top_k = 10\n",
        "\n",
        "response = (\n",
        "    wcs_client.query\n",
        "    .get(VECTOR_DB_NAME, [\"prepared_text\"])\n",
        "    .with_near_text({\"concepts\": [query_text]})\n",
        "    .with_limit(top_k)\n",
        "    #.with_additional([\"distance\", \"vector, id\"]) # Also return the vector, the distance and the id\n",
        "    .with_additional([\"distance\", \"id\"])\n",
        "    .do()\n",
        ")\n",
        "\n",
        "print(json.dumps(response, indent=4))"
      ]
    },
    {
      "cell_type": "code",
      "execution_count": null,
      "id": "a26fa126",
      "metadata": {
        "execution": {
          "iopub.execute_input": "2024-02-23T10:02:25.040162Z",
          "iopub.status.busy": "2024-02-23T10:02:25.038622Z",
          "iopub.status.idle": "2024-02-23T10:02:25.798491Z",
          "shell.execute_reply": "2024-02-23T10:02:25.796997Z"
        },
        "papermill": {
          "duration": 0.789787,
          "end_time": "2024-02-23T10:02:25.803776",
          "exception": false,
          "start_time": "2024-02-23T10:02:25.013989",
          "status": "completed"
        },
        "tags": [],
        "id": "a26fa126",
        "outputId": "d7035091-d447-4308-e849-7fed7079b5f6"
      },
      "outputs": [
        {
          "name": "stdout",
          "output_type": "stream",
          "text": [
            "{\n",
            "    \"data\": {\n",
            "        \"Get\": {\n",
            "            \"KAGGLE_DOCS_VDB\": [\n",
            "                {\n",
            "                    \"_additional\": {\n",
            "                        \"distance\": null,\n",
            "                        \"id\": \"3330519f-0bf2-4e6a-a6bd-c9a7128a400a\"\n",
            "                    },\n",
            "                    \"prepared_text\": \"Kaggle Team Members (Employees) and their profiles Link to section in Kaggle website: https://www.kaggle.com/about/team   {Kaggle team member} D. Sculley CEO D. is the CEO at Kaggle. Prior to coming to Kaggle, he was a director at Google Brain, leading research teams working on robust, responsible, reliable and efficient ML and AI. In his career in ML, he has worked on nearly every aspect of machine learning, and has led both product and research teams including those on some of the most challenging business problems. Some of his well known work involves ML Technical Debt, ML Education, ML Robustness, production-critical ML, and ML for scientific applications such as protein design.\"\n",
            "                },\n",
            "                {\n",
            "                    \"_additional\": {\n",
            "                        \"distance\": null,\n",
            "                        \"id\": \"5496cded-57c2-4125-9617-f21c72b00f8d\"\n",
            "                    },\n",
            "                    \"prepared_text\": \"{Kaggle team member} Dustin Herbison Developer Dustin is a software engineer who enjoys creating elegant solutions to hard problems. Prior to joining Kaggle, he worked on Google's supply chain inventory systems.\"\n",
            "                },\n",
            "                {\n",
            "                    \"_additional\": {\n",
            "                        \"distance\": null,\n",
            "                        \"id\": \"65e7f298-014c-4d29-834f-dba6bbf78a43\"\n",
            "                    },\n",
            "                    \"prepared_text\": \"{Kaggle Community Guidelines} Ensuring Kaggle is a place where anyone in the world feels welcome to participate. Link to section on Kaggle website: https://www.kaggle.com/community-guidelines  Kaggle\\u2019s community is made up of data scientists and machine learners from all over the world with a variety of skills and backgrounds. We strongly believe that our community and the future of the field are brighter when we embrace differences.  To help ensure that anyone in the world who loves working with data feels equally welcome to participate, we have created the community guidelines below. Our expectation is that all members of the Kaggle community will uphold these guidelines and contribute to their enforcement by reporting inappropriate content.\"\n",
            "                },\n",
            "                {\n",
            "                    \"_additional\": {\n",
            "                        \"distance\": null,\n",
            "                        \"id\": \"7f0ca216-49b7-4fa4-96b2-8a1fabb24abc\"\n",
            "                    },\n",
            "                    \"prepared_text\": \"{Kaggle Privacy Policy} Kaggle Contact Information  Please contact Kaggle with any questions or comments about this Privacy Policy, your personal information, our use and disclosure practices, or your consent choices through Kaggle Support.  Specific Contact Emails:  - General Privacy: privacy@kaggle.com - Data Protection Office: data-protection-office@kaggle.com - Security: security@kaggle.com - Abuse: abuse@kaggle.com\"\n",
            "                },\n",
            "                {\n",
            "                    \"_additional\": {\n",
            "                        \"distance\": null,\n",
            "                        \"id\": \"e6f9fbb5-c259-43fd-a749-01abd98ccddf\"\n",
            "                    },\n",
            "                    \"prepared_text\": \"{Kaggle team member} Nate Keating Head of Product Prior to joining Kaggle, Nate was senior PM in Google Cloud on AI products. He holds a B.S. in Economics from Duke University. What would you like to see Kaggle do next?\"\n",
            "                },\n",
            "                {\n",
            "                    \"_additional\": {\n",
            "                        \"distance\": null,\n",
            "                        \"id\": \"0f3e3653-ea9f-4f3d-8866-7de4905b4300\"\n",
            "                    },\n",
            "                    \"prepared_text\": \"{Kaggle Docs: Competitions} Leaderboard One of the most important aspects of Kaggle Competitions is the Leaderboard. The Competition leaderboard has two parts.  The public leaderboard provides publicly visible submission scores based on a representative sample of the test data. This leaderboard is visible throughout the competition.  The private leaderboard, by contrast, tracks model performance using the remainder of the test data. The private leaderboard thus has final say on whose models are best, and hence, who the winners and losers of the Competition will be. Which subset of data is calculated on the private leaderboard or a submission\\u2019s performance on the private leaderboard is not released to users until the competition has been closed.  Many users watch the public leaderboard closely, as breakthroughs in the competition are announced by score gains in the leaderboard. These jumps in turn motivate other teams working on the competition in search of those advancements. But it\\u2019s important to keep the public leaderboard in perspective. It\\u2019s very easy to overfit a model, creating something that performs very well on the public leaderboard, but very badly on the private one. This is called overfitting.  In the event of an exact score tie, the tiebreaker is the team which submitted earlier. Kaggle always uses full precision when determining rankings, not just the truncated precision shown on the Leaderboard.\"\n",
            "                },\n",
            "                {\n",
            "                    \"_additional\": {\n",
            "                        \"distance\": null,\n",
            "                        \"id\": \"214f44a6-d11a-4e1a-9c1f-03d7b2090317\"\n",
            "                    },\n",
            "                    \"prepared_text\": \"{Kaggle Docs: Competitions} Resources for Getting Started Getting Started The Getting Started Competitions are specifically targeted at new users getting their feet wet with Kaggle and/or machine learning:  - Binary classification: Titanic: Machine Learning from Disaster - Regression: House Prices: Advanced Regression Techniques  The Kaggle Learn platform has several tracks for beginners interested in free hands-on data science learning from pandas to deep learning. Lessons within a track are separated into easily digestible chunks and contain Notebook exercises for you to practise building models and new techniques hands-on. It is a great way to start deep diving into data science and quickly get familiar with the field!  What Kaggle has learned from almost 2MM machine learning models on Youtube. This data.bythebay.io talk by Kaggle founder Anthony Goldbloom lays out what Kaggle competitions are all about.  How to (almost) win at Kaggle on Youtube. In this talk competitor Kiri Nichols summarizes the appeal of Competitions as a data science learner.  Discussion  General Discussion: There are six general site Discussion Forums: - Kaggle Forum: Events and topics specific to the Kaggle community - Getting Started: The first stop for questions and discussion for new Kagglers - Product Feedback: Tell us what you love, hate, or wish for - Questions & Answers: Technical advice from other data scientists - Datasets: Requests for and discussion of open data - Learn: Questions, answers, and requests related to Kaggle Learn courses  Competition Discussion Forums: No matter the competition you are participating in, you can count on plenty of active community members making posts to the forums. If you get stuck on a particular aspect of the problem, Discussions are a great place to ask questions.  Competition Notebooks: Similar to Discussions, Notebooks shared within a competition are an excellent source of Exploratory Data Analyses (EDAs) & basic starter models which can be forked and built upon for applied learning.  The Kaggle Noobs Slack channel: This Slack channel is a popular watering hole for general banter among Kaggle ML practitioners from Novice to Grandmaster.  Techniques Public, reproducible code examples in Notebooks are a great way to learn and put to practice new techniques. Search for techniques in Notebooks by tag using the search syntax tag:classification. Fork Notebooks to make a copy of the code to modify and experiment with.  The No Free Hunch blog. No Free Hunch is a great way of keeping up with goings-on on Kaggle. Many past Competitions winners have been interviewed about and presented their winning models on No Free Hunch. Here are some examples of past winner\\u2019s interviews:  - NOAA Right Whale Identification - Instacart Market Basket Analysis, Winner\\u2019s Interview: 2nd place, Kazuki Onodera - Two Sigma Financial Modeling Code Competition  Various tutorials have been published on No Free Hunch:  - An Intuitive Introduction to Generative Adversarial Networks - Introduction To Neural Networks - A Kaggle Master Explains Gradient Boosting - A Kaggler\\u2019s Guide to Model Stacking in Practice - Marios Michailidis: How to become a Kaggle #1: An introduction to model stacking: In this Data Science Festival talk top Kaggler Marios Michailidis (Kasanova) explains model stacking, a key feature of winning competition models, in great detail. - Kaggle Grandmaster Panel: A panel Q&A from H2O World 2017 featuring some top Kagglers. - How to Win A Kaggle Competition - Learn From Top Kagglers: This Coursera course, put together by high-ranking Kagglers, going into great detail on the tools and techniques used by winning Competitions models.\"\n",
            "                },\n",
            "                {\n",
            "                    \"_additional\": {\n",
            "                        \"distance\": null,\n",
            "                        \"id\": \"d4ef0e98-1f6f-4e31-ac4a-8efb3615ed08\"\n",
            "                    },\n",
            "                    \"prepared_text\": \"{Kaggle team member} AK Kulkarni Product Manager AK is a PM at Google and Kaggle. Prior to Google, AK worked at a marketing agency and an education management company as an analyst. He started his analytics career learning data science on Kaggle. AK studied Economics at the University of Miami (FL) and is learning game development in his spare time.\"\n",
            "                },\n",
            "                {\n",
            "                    \"_additional\": {\n",
            "                        \"distance\": null,\n",
            "                        \"id\": \"78023c69-83cd-48ec-add6-034b7ee124d5\"\n",
            "                    },\n",
            "                    \"prepared_text\": \"{Kaggle Docs: How to set up a competition} Create your competition\\ufe0f  To create a new competition, click on the \\u201cCreate new competition\\u201d button at the top of the Kaggle Community landing page.  Then, enter a descriptive title, subtitle and URL for your competition. Be as descriptive and to the point as possible. In our example above, the title \\u201cStore Sales - Time Series Forecasting\\u201d quickly outlines the type of data, the industry of the dataset, and the type of problem to be solved.  If you want to create a competition with more privacy, you can limit your competition's visibility and restrict who can join on this page.  Visibility: Competitions with their visibility set to public are viewable on Kaggle and appear in Kaggle search results. Competitions with visibility set to private are hidden and only accessible via invitation URLs from the host.  Who Can Join: Competitions access can be set to three levels: anyone, only people with a link and restricted email list. If you select anyone, all Kagglers can join your competition. Selecting only people with a link, will restrict access to those users you provide a special URL. Finally, restricted email list is the most private competition. Only Kagglers with accounts that match the emails or email domains you specify will be able to join. Note: if you select restricted email list, notebooks will be turned off. This provides a way to ensure that any private data that you have in a competition is not accidentally leaked through shared notebooks. You can choose to re-enable notebooks if you choose.  Review and accept our terms of service, then click \\u201cCreate Competition\\u201d.  Your competition listing is now in draft mode. You can take your time to prepare the details before making the competition public.\"\n",
            "                },\n",
            "                {\n",
            "                    \"_additional\": {\n",
            "                        \"distance\": null,\n",
            "                        \"id\": \"c6273b2d-18e2-4162-80c6-68f2741b6f8f\"\n",
            "                    },\n",
            "                    \"prepared_text\": \"{Kaggle team member} Kestin Merritt Moon Community Moderator Kestin is a community moderator who strives to cultivate a fair, accepting and innovative community for all Kagglers. She carries a bachelor\\u2019s degree in Digital Technology & Culture from Washington State University, where she also worked as a student graphic designer. Before joining Kaggle, Kestin worked as an analyst and customer support specialist for a start-up company specializing in TV advertising metrics. Outside of work, Kestin enjoys weight lifting, playing with her corgi and traveling with her husband and friends.\"\n",
            "                }\n",
            "            ]\n",
            "        }\n",
            "    }\n",
            "}\n"
          ]
        }
      ],
      "source": [
        "# Run a hybrid search\n",
        "\n",
        "response = (\n",
        "    wcs_client.query\n",
        "    .get(VECTOR_DB_NAME, [\"prepared_text\"])\n",
        "    .with_hybrid(query=query_text, alpha=0.5)\n",
        "    .with_limit(top_k)\n",
        "    #.with_additional([\"distance\", \"vector, id\"]) # Also return the vector, the distance and the id\n",
        "    .with_additional([\"distance\", \"id\"]) # This id is the Weaviate database id\n",
        "    .do()\n",
        ")\n",
        "\n",
        "print(json.dumps(response, indent=4))"
      ]
    },
    {
      "cell_type": "code",
      "execution_count": null,
      "id": "d5dad874",
      "metadata": {
        "execution": {
          "iopub.execute_input": "2024-02-23T10:02:25.860892Z",
          "iopub.status.busy": "2024-02-23T10:02:25.859890Z",
          "iopub.status.idle": "2024-02-23T10:02:27.023521Z",
          "shell.execute_reply": "2024-02-23T10:02:27.021744Z"
        },
        "papermill": {
          "duration": 1.195247,
          "end_time": "2024-02-23T10:02:27.028710",
          "exception": false,
          "start_time": "2024-02-23T10:02:25.833463",
          "status": "completed"
        },
        "tags": [],
        "id": "d5dad874",
        "outputId": "416cba73-5ebe-45f7-b953-211e653ba12a"
      },
      "outputs": [
        {
          "name": "stdout",
          "output_type": "stream",
          "text": [
            "{\n",
            "    \"data\": {\n",
            "        \"Get\": {\n",
            "            \"KAGGLE_DOCS_VDB\": [\n",
            "                {\n",
            "                    \"_additional\": {\n",
            "                        \"rerank\": [\n",
            "                            {\n",
            "                                \"score\": 0.9999998\n",
            "                            }\n",
            "                        ]\n",
            "                    },\n",
            "                    \"prepared_text\": \"Kaggle Team Members (Employees) and their profiles Link to section in Kaggle website: https://www.kaggle.com/about/team   {Kaggle team member} D. Sculley CEO D. is the CEO at Kaggle. Prior to coming to Kaggle, he was a director at Google Brain, leading research teams working on robust, responsible, reliable and efficient ML and AI. In his career in ML, he has worked on nearly every aspect of machine learning, and has led both product and research teams including those on some of the most challenging business problems. Some of his well known work involves ML Technical Debt, ML Education, ML Robustness, production-critical ML, and ML for scientific applications such as protein design.\"\n",
            "                },\n",
            "                {\n",
            "                    \"_additional\": {\n",
            "                        \"rerank\": [\n",
            "                            {\n",
            "                                \"score\": 0.9947392\n",
            "                            }\n",
            "                        ]\n",
            "                    },\n",
            "                    \"prepared_text\": \"{Kaggle team member} Nate Keating Head of Product Prior to joining Kaggle, Nate was senior PM in Google Cloud on AI products. He holds a B.S. in Economics from Duke University. What would you like to see Kaggle do next?\"\n",
            "                },\n",
            "                {\n",
            "                    \"_additional\": {\n",
            "                        \"rerank\": [\n",
            "                            {\n",
            "                                \"score\": 0.8967949\n",
            "                            }\n",
            "                        ]\n",
            "                    },\n",
            "                    \"prepared_text\": \"{Kaggle team member} AK Kulkarni Product Manager AK is a PM at Google and Kaggle. Prior to Google, AK worked at a marketing agency and an education management company as an analyst. He started his analytics career learning data science on Kaggle. AK studied Economics at the University of Miami (FL) and is learning game development in his spare time.\"\n",
            "                },\n",
            "                {\n",
            "                    \"_additional\": {\n",
            "                        \"rerank\": [\n",
            "                            {\n",
            "                                \"score\": 0.26170814\n",
            "                            }\n",
            "                        ]\n",
            "                    },\n",
            "                    \"prepared_text\": \"{Kaggle team member} Dustin Herbison Developer Dustin is a software engineer who enjoys creating elegant solutions to hard problems. Prior to joining Kaggle, he worked on Google's supply chain inventory systems.\"\n",
            "                },\n",
            "                {\n",
            "                    \"_additional\": {\n",
            "                        \"rerank\": [\n",
            "                            {\n",
            "                                \"score\": 0.1664043\n",
            "                            }\n",
            "                        ]\n",
            "                    },\n",
            "                    \"prepared_text\": \"{Kaggle team member} Kestin Merritt Moon Community Moderator Kestin is a community moderator who strives to cultivate a fair, accepting and innovative community for all Kagglers. She carries a bachelor\\u2019s degree in Digital Technology & Culture from Washington State University, where she also worked as a student graphic designer. Before joining Kaggle, Kestin worked as an analyst and customer support specialist for a start-up company specializing in TV advertising metrics. Outside of work, Kestin enjoys weight lifting, playing with her corgi and traveling with her husband and friends.\"\n",
            "                },\n",
            "                {\n",
            "                    \"_additional\": {\n",
            "                        \"rerank\": [\n",
            "                            {\n",
            "                                \"score\": 0.0014325366\n",
            "                            }\n",
            "                        ]\n",
            "                    },\n",
            "                    \"prepared_text\": \"{Kaggle Docs: Competitions} Resources for Getting Started Getting Started The Getting Started Competitions are specifically targeted at new users getting their feet wet with Kaggle and/or machine learning:  - Binary classification: Titanic: Machine Learning from Disaster - Regression: House Prices: Advanced Regression Techniques  The Kaggle Learn platform has several tracks for beginners interested in free hands-on data science learning from pandas to deep learning. Lessons within a track are separated into easily digestible chunks and contain Notebook exercises for you to practise building models and new techniques hands-on. It is a great way to start deep diving into data science and quickly get familiar with the field!  What Kaggle has learned from almost 2MM machine learning models on Youtube. This data.bythebay.io talk by Kaggle founder Anthony Goldbloom lays out what Kaggle competitions are all about.  How to (almost) win at Kaggle on Youtube. In this talk competitor Kiri Nichols summarizes the appeal of Competitions as a data science learner.  Discussion  General Discussion: There are six general site Discussion Forums: - Kaggle Forum: Events and topics specific to the Kaggle community - Getting Started: The first stop for questions and discussion for new Kagglers - Product Feedback: Tell us what you love, hate, or wish for - Questions & Answers: Technical advice from other data scientists - Datasets: Requests for and discussion of open data - Learn: Questions, answers, and requests related to Kaggle Learn courses  Competition Discussion Forums: No matter the competition you are participating in, you can count on plenty of active community members making posts to the forums. If you get stuck on a particular aspect of the problem, Discussions are a great place to ask questions.  Competition Notebooks: Similar to Discussions, Notebooks shared within a competition are an excellent source of Exploratory Data Analyses (EDAs) & basic starter models which can be forked and built upon for applied learning.  The Kaggle Noobs Slack channel: This Slack channel is a popular watering hole for general banter among Kaggle ML practitioners from Novice to Grandmaster.  Techniques Public, reproducible code examples in Notebooks are a great way to learn and put to practice new techniques. Search for techniques in Notebooks by tag using the search syntax tag:classification. Fork Notebooks to make a copy of the code to modify and experiment with.  The No Free Hunch blog. No Free Hunch is a great way of keeping up with goings-on on Kaggle. Many past Competitions winners have been interviewed about and presented their winning models on No Free Hunch. Here are some examples of past winner\\u2019s interviews:  - NOAA Right Whale Identification - Instacart Market Basket Analysis, Winner\\u2019s Interview: 2nd place, Kazuki Onodera - Two Sigma Financial Modeling Code Competition  Various tutorials have been published on No Free Hunch:  - An Intuitive Introduction to Generative Adversarial Networks - Introduction To Neural Networks - A Kaggle Master Explains Gradient Boosting - A Kaggler\\u2019s Guide to Model Stacking in Practice - Marios Michailidis: How to become a Kaggle #1: An introduction to model stacking: In this Data Science Festival talk top Kaggler Marios Michailidis (Kasanova) explains model stacking, a key feature of winning competition models, in great detail. - Kaggle Grandmaster Panel: A panel Q&A from H2O World 2017 featuring some top Kagglers. - How to Win A Kaggle Competition - Learn From Top Kagglers: This Coursera course, put together by high-ranking Kagglers, going into great detail on the tools and techniques used by winning Competitions models.\"\n",
            "                },\n",
            "                {\n",
            "                    \"_additional\": {\n",
            "                        \"rerank\": [\n",
            "                            {\n",
            "                                \"score\": 0.00010391068\n",
            "                            }\n",
            "                        ]\n",
            "                    },\n",
            "                    \"prepared_text\": \"{Kaggle Community Guidelines} Ensuring Kaggle is a place where anyone in the world feels welcome to participate. Link to section on Kaggle website: https://www.kaggle.com/community-guidelines  Kaggle\\u2019s community is made up of data scientists and machine learners from all over the world with a variety of skills and backgrounds. We strongly believe that our community and the future of the field are brighter when we embrace differences.  To help ensure that anyone in the world who loves working with data feels equally welcome to participate, we have created the community guidelines below. Our expectation is that all members of the Kaggle community will uphold these guidelines and contribute to their enforcement by reporting inappropriate content.\"\n",
            "                },\n",
            "                {\n",
            "                    \"_additional\": {\n",
            "                        \"rerank\": [\n",
            "                            {\n",
            "                                \"score\": 1.1125608e-05\n",
            "                            }\n",
            "                        ]\n",
            "                    },\n",
            "                    \"prepared_text\": \"{Kaggle Privacy Policy} Kaggle Contact Information  Please contact Kaggle with any questions or comments about this Privacy Policy, your personal information, our use and disclosure practices, or your consent choices through Kaggle Support.  Specific Contact Emails:  - General Privacy: privacy@kaggle.com - Data Protection Office: data-protection-office@kaggle.com - Security: security@kaggle.com - Abuse: abuse@kaggle.com\"\n",
            "                },\n",
            "                {\n",
            "                    \"_additional\": {\n",
            "                        \"rerank\": [\n",
            "                            {\n",
            "                                \"score\": 5.133655e-06\n",
            "                            }\n",
            "                        ]\n",
            "                    },\n",
            "                    \"prepared_text\": \"{Kaggle Docs: Competitions} Leaderboard One of the most important aspects of Kaggle Competitions is the Leaderboard. The Competition leaderboard has two parts.  The public leaderboard provides publicly visible submission scores based on a representative sample of the test data. This leaderboard is visible throughout the competition.  The private leaderboard, by contrast, tracks model performance using the remainder of the test data. The private leaderboard thus has final say on whose models are best, and hence, who the winners and losers of the Competition will be. Which subset of data is calculated on the private leaderboard or a submission\\u2019s performance on the private leaderboard is not released to users until the competition has been closed.  Many users watch the public leaderboard closely, as breakthroughs in the competition are announced by score gains in the leaderboard. These jumps in turn motivate other teams working on the competition in search of those advancements. But it\\u2019s important to keep the public leaderboard in perspective. It\\u2019s very easy to overfit a model, creating something that performs very well on the public leaderboard, but very badly on the private one. This is called overfitting.  In the event of an exact score tie, the tiebreaker is the team which submitted earlier. Kaggle always uses full precision when determining rankings, not just the truncated precision shown on the Leaderboard.\"\n",
            "                },\n",
            "                {\n",
            "                    \"_additional\": {\n",
            "                        \"rerank\": [\n",
            "                            {\n",
            "                                \"score\": 8.714339e-07\n",
            "                            }\n",
            "                        ]\n",
            "                    },\n",
            "                    \"prepared_text\": \"{Kaggle Docs: How to set up a competition} Create your competition\\ufe0f  To create a new competition, click on the \\u201cCreate new competition\\u201d button at the top of the Kaggle Community landing page.  Then, enter a descriptive title, subtitle and URL for your competition. Be as descriptive and to the point as possible. In our example above, the title \\u201cStore Sales - Time Series Forecasting\\u201d quickly outlines the type of data, the industry of the dataset, and the type of problem to be solved.  If you want to create a competition with more privacy, you can limit your competition's visibility and restrict who can join on this page.  Visibility: Competitions with their visibility set to public are viewable on Kaggle and appear in Kaggle search results. Competitions with visibility set to private are hidden and only accessible via invitation URLs from the host.  Who Can Join: Competitions access can be set to three levels: anyone, only people with a link and restricted email list. If you select anyone, all Kagglers can join your competition. Selecting only people with a link, will restrict access to those users you provide a special URL. Finally, restricted email list is the most private competition. Only Kagglers with accounts that match the emails or email domains you specify will be able to join. Note: if you select restricted email list, notebooks will be turned off. This provides a way to ensure that any private data that you have in a competition is not accidentally leaked through shared notebooks. You can choose to re-enable notebooks if you choose.  Review and accept our terms of service, then click \\u201cCreate Competition\\u201d.  Your competition listing is now in draft mode. You can take your time to prepare the details before making the competition public.\"\n",
            "                }\n",
            "            ]\n",
            "        }\n",
            "    }\n",
            "}\n"
          ]
        }
      ],
      "source": [
        "# Include reranking after the hybrid search\n",
        "\n",
        "response = (\n",
        "    wcs_client.query\n",
        "    .get(VECTOR_DB_NAME, [\"prepared_text\"])\n",
        "    .with_hybrid(query=query_text, alpha=0.5)\n",
        "    .with_additional(f\"rerank(property: \\\"prepared_text\\\" query: \\\"{query_text}\\\") {{ score }}\")\n",
        "    .with_limit(top_k)\n",
        "    .do()\n",
        ")\n",
        "\n",
        "print(json.dumps(response, indent=4))"
      ]
    },
    {
      "cell_type": "markdown",
      "id": "694c4278",
      "metadata": {
        "papermill": {
          "duration": 0.030587,
          "end_time": "2024-02-23T10:02:27.094660",
          "exception": false,
          "start_time": "2024-02-23T10:02:27.064073",
          "status": "completed"
        },
        "tags": [],
        "id": "694c4278"
      },
      "source": [
        "## Use OpenAI to create a natural language output"
      ]
    },
    {
      "cell_type": "code",
      "execution_count": null,
      "id": "07a761a3",
      "metadata": {
        "execution": {
          "iopub.execute_input": "2024-02-23T10:02:27.147834Z",
          "iopub.status.busy": "2024-02-23T10:02:27.146793Z",
          "iopub.status.idle": "2024-02-23T10:02:27.154639Z",
          "shell.execute_reply": "2024-02-23T10:02:27.153542Z"
        },
        "papermill": {
          "duration": 0.036291,
          "end_time": "2024-02-23T10:02:27.157305",
          "exception": false,
          "start_time": "2024-02-23T10:02:27.121014",
          "status": "completed"
        },
        "tags": [],
        "id": "07a761a3",
        "outputId": "e2fbc3b7-d76a-4be0-a209-7328fe608b18"
      },
      "outputs": [
        {
          "data": {
            "text/plain": [
              "10"
            ]
          },
          "execution_count": 31,
          "metadata": {},
          "output_type": "execute_result"
        }
      ],
      "source": [
        "# Get the chunks for the context\n",
        "response_list = response['data']['Get'][VECTOR_DB_NAME]\n",
        "\n",
        "len(response_list)"
      ]
    },
    {
      "cell_type": "code",
      "execution_count": null,
      "id": "065e376f",
      "metadata": {
        "execution": {
          "iopub.execute_input": "2024-02-23T10:02:27.208282Z",
          "iopub.status.busy": "2024-02-23T10:02:27.207128Z",
          "iopub.status.idle": "2024-02-23T10:02:27.215954Z",
          "shell.execute_reply": "2024-02-23T10:02:27.214673Z"
        },
        "papermill": {
          "duration": 0.03773,
          "end_time": "2024-02-23T10:02:27.218472",
          "exception": false,
          "start_time": "2024-02-23T10:02:27.180742",
          "status": "completed"
        },
        "tags": [],
        "id": "065e376f",
        "outputId": "3b8a1771-c6c7-4ef5-ae80-f7e8e24602ec"
      },
      "outputs": [
        {
          "data": {
            "text/plain": [
              "'Kaggle Team Members (Employees) and their profiles Link to section in Kaggle website: https://www.kaggle.com/about/team   {Kaggle team member} D. Sculley CEO D. is the CEO at Kaggle. Prior to coming to Kaggle, he was a director at Google Brain, leading research teams working on robust, responsible, reliable and efficient ML and AI. In his career in ML, he has worked on nearly every aspect of machine learning, and has led both product and research teams including those on some of the most challenging business problems. Some of his well known work involves ML Technical Debt, ML Education, ML Robustness, production-critical ML, and ML for scientific applications such as protein design.'"
            ]
          },
          "execution_count": 32,
          "metadata": {},
          "output_type": "execute_result"
        }
      ],
      "source": [
        "text = response_list[0]['prepared_text']\n",
        "\n",
        "text"
      ]
    },
    {
      "cell_type": "code",
      "execution_count": null,
      "id": "8fffb889",
      "metadata": {
        "execution": {
          "iopub.execute_input": "2024-02-23T10:02:27.266805Z",
          "iopub.status.busy": "2024-02-23T10:02:27.266283Z",
          "iopub.status.idle": "2024-02-23T10:02:27.274575Z",
          "shell.execute_reply": "2024-02-23T10:02:27.273082Z"
        },
        "papermill": {
          "duration": 0.035541,
          "end_time": "2024-02-23T10:02:27.277139",
          "exception": false,
          "start_time": "2024-02-23T10:02:27.241598",
          "status": "completed"
        },
        "tags": [],
        "id": "8fffb889",
        "outputId": "746cb49e-85dd-4f40-e26d-fdb8f8f22948"
      },
      "outputs": [
        {
          "data": {
            "text/plain": [
              "'Who is the CEO of Kaggle?'"
            ]
          },
          "execution_count": 33,
          "metadata": {},
          "output_type": "execute_result"
        }
      ],
      "source": [
        "query_text"
      ]
    },
    {
      "cell_type": "code",
      "execution_count": null,
      "id": "3aaebcb2",
      "metadata": {
        "execution": {
          "iopub.execute_input": "2024-02-23T10:02:27.326879Z",
          "iopub.status.busy": "2024-02-23T10:02:27.326423Z",
          "iopub.status.idle": "2024-02-23T10:02:27.335032Z",
          "shell.execute_reply": "2024-02-23T10:02:27.334052Z"
        },
        "papermill": {
          "duration": 0.035881,
          "end_time": "2024-02-23T10:02:27.337308",
          "exception": false,
          "start_time": "2024-02-23T10:02:27.301427",
          "status": "completed"
        },
        "tags": [],
        "id": "3aaebcb2",
        "outputId": "8bdd8d4c-19cd-42fb-c84c-fc49829613e7"
      },
      "outputs": [
        {
          "data": {
            "text/plain": [
              "10"
            ]
          },
          "execution_count": 34,
          "metadata": {},
          "output_type": "execute_result"
        }
      ],
      "source": [
        "# Extract just the text\n",
        "\n",
        "pred_text_list = []\n",
        "\n",
        "for i in range(0, len(response_list)):\n",
        "\n",
        "    pred_text = response_list[i]['prepared_text']\n",
        "\n",
        "    pred_text_list.append(pred_text)\n",
        "\n",
        "len(pred_text_list)"
      ]
    },
    {
      "cell_type": "code",
      "execution_count": null,
      "id": "f590167b",
      "metadata": {
        "execution": {
          "iopub.execute_input": "2024-02-23T10:02:27.387047Z",
          "iopub.status.busy": "2024-02-23T10:02:27.386591Z",
          "iopub.status.idle": "2024-02-23T10:02:27.392799Z",
          "shell.execute_reply": "2024-02-23T10:02:27.391236Z"
        },
        "papermill": {
          "duration": 0.033935,
          "end_time": "2024-02-23T10:02:27.395525",
          "exception": false,
          "start_time": "2024-02-23T10:02:27.361590",
          "status": "completed"
        },
        "tags": [],
        "id": "f590167b"
      },
      "outputs": [],
      "source": [
        "# Choose the first three text chunks\n",
        "context = pred_text_list[0:3]\n",
        "\n",
        "# Prepare the prompt\n",
        "prompt = f\"\"\"\n",
        "Text containing information:\n",
        "{context}\n",
        "Question: {query_text}\n",
        "\n",
        "Extract the answer to the question from the text provided.\n",
        "If the text doesn't contain the answer,\n",
        "reply that the answer is not available.\"\"\""
      ]
    },
    {
      "cell_type": "code",
      "execution_count": null,
      "id": "cb3f699d",
      "metadata": {
        "execution": {
          "iopub.execute_input": "2024-02-23T10:02:27.445649Z",
          "iopub.status.busy": "2024-02-23T10:02:27.445196Z",
          "iopub.status.idle": "2024-02-23T10:02:29.230111Z",
          "shell.execute_reply": "2024-02-23T10:02:29.228501Z"
        },
        "papermill": {
          "duration": 1.813325,
          "end_time": "2024-02-23T10:02:29.233363",
          "exception": false,
          "start_time": "2024-02-23T10:02:27.420038",
          "status": "completed"
        },
        "tags": [],
        "id": "cb3f699d",
        "outputId": "6ae8c821-2d6d-4c61-a772-0f4dae409fad"
      },
      "outputs": [
        {
          "name": "stdout",
          "output_type": "stream",
          "text": [
            "The CEO of Kaggle is D. Sculley.\n"
          ]
        }
      ],
      "source": [
        "from openai import OpenAI\n",
        "\n",
        "client = OpenAI(api_key=OPENAI_API_KEY)\n",
        "\n",
        "completion = client.chat.completions.create(\n",
        "  model=\"gpt-3.5-turbo-0125\",\n",
        "  messages=[\n",
        "    {\"role\": \"system\", \"content\": \"You are a helpful assistant.\"},\n",
        "    {\"role\": \"user\", \"content\": prompt}\n",
        "  ]\n",
        ")\n",
        "\n",
        "\n",
        "print(completion.choices[0].message.content)"
      ]
    },
    {
      "cell_type": "code",
      "execution_count": null,
      "id": "2922c103",
      "metadata": {
        "papermill": {
          "duration": 0.024757,
          "end_time": "2024-02-23T10:02:29.282675",
          "exception": false,
          "start_time": "2024-02-23T10:02:29.257918",
          "status": "completed"
        },
        "tags": [],
        "id": "2922c103"
      },
      "outputs": [],
      "source": []
    },
    {
      "cell_type": "code",
      "execution_count": null,
      "id": "a21e5603",
      "metadata": {
        "papermill": {
          "duration": 0.026576,
          "end_time": "2024-02-23T10:02:29.335582",
          "exception": false,
          "start_time": "2024-02-23T10:02:29.309006",
          "status": "completed"
        },
        "tags": [],
        "id": "a21e5603"
      },
      "outputs": [],
      "source": []
    },
    {
      "cell_type": "code",
      "execution_count": null,
      "id": "e5f6e345",
      "metadata": {
        "papermill": {
          "duration": 0.024016,
          "end_time": "2024-02-23T10:02:29.384568",
          "exception": false,
          "start_time": "2024-02-23T10:02:29.360552",
          "status": "completed"
        },
        "tags": [],
        "id": "e5f6e345"
      },
      "outputs": [],
      "source": []
    }
  ],
  "metadata": {
    "kaggle": {
      "accelerator": "none",
      "dataSources": [
        {
          "databundleVersionId": 7782387,
          "datasetId": 4477853,
          "sourceId": 7684472,
          "sourceType": "datasetVersion"
        }
      ],
      "dockerImageVersionId": 30646,
      "isGpuEnabled": false,
      "isInternetEnabled": true,
      "language": "python",
      "sourceType": "notebook"
    },
    "kernelspec": {
      "display_name": "Python 3",
      "language": "python",
      "name": "python3"
    },
    "language_info": {
      "codemirror_mode": {
        "name": "ipython",
        "version": 3
      },
      "file_extension": ".py",
      "mimetype": "text/x-python",
      "name": "python",
      "nbconvert_exporter": "python",
      "pygments_lexer": "ipython3",
      "version": "3.10.13"
    },
    "papermill": {
      "default_parameters": {},
      "duration": 81.420918,
      "end_time": "2024-02-23T10:02:30.335536",
      "environment_variables": {},
      "exception": null,
      "input_path": "__notebook__.ipynb",
      "output_path": "__notebook__.ipynb",
      "parameters": {},
      "start_time": "2024-02-23T10:01:08.914618",
      "version": "2.5.0"
    },
    "colab": {
      "provenance": []
    }
  },
  "nbformat": 4,
  "nbformat_minor": 5
}